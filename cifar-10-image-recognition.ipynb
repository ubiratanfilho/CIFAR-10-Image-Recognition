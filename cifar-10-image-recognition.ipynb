{
 "cells": [
  {
   "cell_type": "markdown",
   "id": "2a14c100",
   "metadata": {
    "papermill": {
     "duration": 0.031135,
     "end_time": "2022-01-24T01:19:54.192173",
     "exception": false,
     "start_time": "2022-01-24T01:19:54.161038",
     "status": "completed"
    },
    "tags": []
   },
   "source": [
    "# Introduction\n",
    "\n",
    "This notebook is an exercise from Hands-on Machine Learning with Scikit-Learn, Keras and TensorFlow, by Aurélien Geron.\n",
    "\n",
    "It aims to build different Deep Neural Networks to predict images in the dataset CIFAR-10, availiable in https://www.cs.toronto.edu/~kriz/cifar.html"
   ]
  },
  {
   "cell_type": "code",
   "execution_count": 1,
   "id": "9d4c3eee",
   "metadata": {
    "execution": {
     "iopub.execute_input": "2022-01-24T01:19:54.260595Z",
     "iopub.status.busy": "2022-01-24T01:19:54.259895Z",
     "iopub.status.idle": "2022-01-24T01:20:00.050169Z",
     "shell.execute_reply": "2022-01-24T01:20:00.049417Z",
     "shell.execute_reply.started": "2022-01-24T00:53:08.646843Z"
    },
    "papermill": {
     "duration": 5.827463,
     "end_time": "2022-01-24T01:20:00.050354",
     "exception": false,
     "start_time": "2022-01-24T01:19:54.222891",
     "status": "completed"
    },
    "tags": []
   },
   "outputs": [
    {
     "name": "stderr",
     "output_type": "stream",
     "text": [
      "2022-01-24 01:19:54.971198: W tensorflow/stream_executor/platform/default/dso_loader.cc:60] Could not load dynamic library 'libcudart.so.11.0'; dlerror: libcudart.so.11.0: cannot open shared object file: No such file or directory; LD_LIBRARY_PATH: /opt/conda/lib\n",
      "2022-01-24 01:19:54.971323: I tensorflow/stream_executor/cuda/cudart_stub.cc:29] Ignore above cudart dlerror if you do not have a GPU set up on your machine.\n"
     ]
    }
   ],
   "source": [
    "import tensorflow as tf\n",
    "from tensorflow import keras\n",
    "import numpy as np"
   ]
  },
  {
   "cell_type": "code",
   "execution_count": 2,
   "id": "e08ad469",
   "metadata": {
    "execution": {
     "iopub.execute_input": "2022-01-24T01:20:00.113596Z",
     "iopub.status.busy": "2022-01-24T01:20:00.112723Z",
     "iopub.status.idle": "2022-01-24T01:20:05.432354Z",
     "shell.execute_reply": "2022-01-24T01:20:05.432888Z",
     "shell.execute_reply.started": "2022-01-24T00:53:08.653944Z"
    },
    "papermill": {
     "duration": 5.353004,
     "end_time": "2022-01-24T01:20:05.433090",
     "exception": false,
     "start_time": "2022-01-24T01:20:00.080086",
     "status": "completed"
    },
    "tags": []
   },
   "outputs": [
    {
     "name": "stderr",
     "output_type": "stream",
     "text": [
      "2022-01-24 01:20:00.118067: I tensorflow/compiler/jit/xla_cpu_device.cc:41] Not creating XLA devices, tf_xla_enable_xla_devices not set\n",
      "2022-01-24 01:20:00.121096: W tensorflow/stream_executor/platform/default/dso_loader.cc:60] Could not load dynamic library 'libcuda.so.1'; dlerror: libcuda.so.1: cannot open shared object file: No such file or directory; LD_LIBRARY_PATH: /opt/conda/lib\n",
      "2022-01-24 01:20:00.121174: W tensorflow/stream_executor/cuda/cuda_driver.cc:326] failed call to cuInit: UNKNOWN ERROR (303)\n",
      "2022-01-24 01:20:00.121224: I tensorflow/stream_executor/cuda/cuda_diagnostics.cc:156] kernel driver does not appear to be running on this host (82d7497651d7): /proc/driver/nvidia/version does not exist\n",
      "2022-01-24 01:20:00.125393: I tensorflow/core/platform/cpu_feature_guard.cc:142] This TensorFlow binary is optimized with oneAPI Deep Neural Network Library (oneDNN) to use the following CPU instructions in performance-critical operations:  AVX2 FMA\n",
      "To enable them in other operations, rebuild TensorFlow with the appropriate compiler flags.\n",
      "2022-01-24 01:20:00.127060: I tensorflow/compiler/jit/xla_gpu_device.cc:99] Not creating XLA devices, tf_xla_enable_xla_devices not set\n",
      "2022-01-24 01:20:00.133124: I tensorflow/compiler/jit/xla_gpu_device.cc:99] Not creating XLA devices, tf_xla_enable_xla_devices not set\n",
      "2022-01-24 01:20:00.160212: I tensorflow/core/distributed_runtime/rpc/grpc_channel.cc:301] Initialize GrpcChannelCache for job worker -> {0 -> 10.0.0.2:8470}\n",
      "2022-01-24 01:20:00.160278: I tensorflow/core/distributed_runtime/rpc/grpc_channel.cc:301] Initialize GrpcChannelCache for job localhost -> {0 -> localhost:30019}\n",
      "2022-01-24 01:20:00.182067: I tensorflow/core/distributed_runtime/rpc/grpc_channel.cc:301] Initialize GrpcChannelCache for job worker -> {0 -> 10.0.0.2:8470}\n",
      "2022-01-24 01:20:00.182146: I tensorflow/core/distributed_runtime/rpc/grpc_channel.cc:301] Initialize GrpcChannelCache for job localhost -> {0 -> localhost:30019}\n",
      "2022-01-24 01:20:00.183620: I tensorflow/core/distributed_runtime/rpc/grpc_server_lib.cc:411] Started server with target: grpc://localhost:30019\n"
     ]
    }
   ],
   "source": [
    "# detect and init the TPU\n",
    "tpu = tf.distribute.cluster_resolver.TPUClusterResolver.connect()\n",
    "\n",
    "# instantiate a distribution strategy\n",
    "tpu_strategy = tf.distribute.experimental.TPUStrategy(tpu)"
   ]
  },
  {
   "cell_type": "code",
   "execution_count": 3,
   "id": "0c64a181",
   "metadata": {
    "execution": {
     "iopub.execute_input": "2022-01-24T01:20:05.512258Z",
     "iopub.status.busy": "2022-01-24T01:20:05.511426Z",
     "iopub.status.idle": "2022-01-24T01:20:09.599582Z",
     "shell.execute_reply": "2022-01-24T01:20:09.598854Z",
     "shell.execute_reply.started": "2022-01-24T00:53:17.388062Z"
    },
    "papermill": {
     "duration": 4.134385,
     "end_time": "2022-01-24T01:20:09.599726",
     "exception": false,
     "start_time": "2022-01-24T01:20:05.465341",
     "status": "completed"
    },
    "tags": []
   },
   "outputs": [
    {
     "name": "stdout",
     "output_type": "stream",
     "text": [
      "Downloading data from https://www.cs.toronto.edu/~kriz/cifar-10-python.tar.gz\n",
      "170500096/170498071 [==============================] - 2s 0us/step\n"
     ]
    }
   ],
   "source": [
    "(X_train_full, y_train_full), (X_test, y_test) = keras.datasets.cifar10.load_data()\n",
    "\n",
    "X_train = X_train_full[5000:]\n",
    "y_train = y_train_full[5000:]\n",
    "X_valid = X_train_full[:5000]\n",
    "y_valid = y_train_full[:5000]"
   ]
  },
  {
   "cell_type": "code",
   "execution_count": 4,
   "id": "ac779bae",
   "metadata": {
    "execution": {
     "iopub.execute_input": "2022-01-24T01:20:09.691792Z",
     "iopub.status.busy": "2022-01-24T01:20:09.691046Z",
     "iopub.status.idle": "2022-01-24T01:20:09.940959Z",
     "shell.execute_reply": "2022-01-24T01:20:09.940396Z",
     "shell.execute_reply.started": "2022-01-24T00:53:18.277398Z"
    },
    "papermill": {
     "duration": 0.299544,
     "end_time": "2022-01-24T01:20:09.941133",
     "exception": false,
     "start_time": "2022-01-24T01:20:09.641589",
     "status": "completed"
    },
    "tags": []
   },
   "outputs": [
    {
     "name": "stdout",
     "output_type": "stream",
     "text": [
      "[1]\n"
     ]
    },
    {
     "data": {
      "image/png": "[encoded data removed]",
      "text/plain": [
       "<Figure size 432x288 with 1 Axes>"
      ]
     },
     "metadata": {
      "needs_background": "light"
     },
     "output_type": "display_data"
    }
   ],
   "source": [
    "import matplotlib.pyplot as plt\n",
    "\n",
    "# see random image\n",
    "some_index = np.random.choice(X_train.shape[0])\n",
    "some_image = X_train[some_index]\n",
    "some_label = y_train[some_index]\n",
    "plt.imshow(some_image)\n",
    "print(some_label)"
   ]
  },
  {
   "cell_type": "code",
   "execution_count": 5,
   "id": "c59d7c7b",
   "metadata": {
    "execution": {
     "iopub.execute_input": "2022-01-24T01:20:10.034346Z",
     "iopub.status.busy": "2022-01-24T01:20:10.033374Z",
     "iopub.status.idle": "2022-01-24T01:20:10.040242Z",
     "shell.execute_reply": "2022-01-24T01:20:10.039701Z",
     "shell.execute_reply.started": "2022-01-24T00:53:18.452490Z"
    },
    "papermill": {
     "duration": 0.055219,
     "end_time": "2022-01-24T01:20:10.040406",
     "exception": false,
     "start_time": "2022-01-24T01:20:09.985187",
     "status": "completed"
    },
    "tags": []
   },
   "outputs": [
    {
     "data": {
      "text/plain": [
       "array([0, 1, 2, 3, 4, 5, 6, 7, 8, 9], dtype=uint8)"
      ]
     },
     "execution_count": 5,
     "metadata": {},
     "output_type": "execute_result"
    }
   ],
   "source": [
    "# unique values in y_train\n",
    "y_train_unique = np.unique(y_train)\n",
    "y_train_unique"
   ]
  },
  {
   "cell_type": "code",
   "execution_count": 6,
   "id": "91f7e93d",
   "metadata": {
    "execution": {
     "iopub.execute_input": "2022-01-24T01:20:10.160635Z",
     "iopub.status.busy": "2022-01-24T01:20:10.159564Z",
     "iopub.status.idle": "2022-01-24T01:20:10.658821Z",
     "shell.execute_reply": "2022-01-24T01:20:10.659519Z",
     "shell.execute_reply.started": "2022-01-24T00:53:18.461883Z"
    },
    "papermill": {
     "duration": 0.575221,
     "end_time": "2022-01-24T01:20:10.659713",
     "exception": false,
     "start_time": "2022-01-24T01:20:10.084492",
     "status": "completed"
    },
    "tags": []
   },
   "outputs": [
    {
     "data": {
      "image/png": "[encoded data removed]",
      "text/plain": [
       "<Figure size 1152x576 with 10 Axes>"
      ]
     },
     "metadata": {
      "needs_background": "light"
     },
     "output_type": "display_data"
    }
   ],
   "source": [
    "# plot one image from each class in a subplot\n",
    "fig = plt.figure(figsize=(16, 8))\n",
    "for label in y_train_unique:\n",
    "    image_index = np.random.choice(np.where(y_train == label)[0])\n",
    "    plt.subplot(1, len(y_train_unique), label + 1)\n",
    "    plt.imshow(X_train[image_index])\n",
    "    plt.axis('off')\n",
    "    plt.title(label)"
   ]
  },
  {
   "cell_type": "markdown",
   "id": "323a1728",
   "metadata": {
    "papermill": {
     "duration": 0.054135,
     "end_time": "2022-01-24T01:20:10.763477",
     "exception": false,
     "start_time": "2022-01-24T01:20:10.709342",
     "status": "completed"
    },
    "tags": []
   },
   "source": [
    "### a)\n",
    "Build a DNN with 20 hidden layers of 100 neurons each. Use the He initialization and the ELU activation function."
   ]
  },
  {
   "cell_type": "code",
   "execution_count": 7,
   "id": "649a7619",
   "metadata": {
    "execution": {
     "iopub.execute_input": "2022-01-24T01:20:10.877895Z",
     "iopub.status.busy": "2022-01-24T01:20:10.877218Z",
     "iopub.status.idle": "2022-01-24T01:20:10.881892Z",
     "shell.execute_reply": "2022-01-24T01:20:10.882472Z",
     "shell.execute_reply.started": "2022-01-24T00:53:18.943226Z"
    },
    "papermill": {
     "duration": 0.060605,
     "end_time": "2022-01-24T01:20:10.882661",
     "exception": false,
     "start_time": "2022-01-24T01:20:10.822056",
     "status": "completed"
    },
    "tags": []
   },
   "outputs": [
    {
     "data": {
      "text/plain": [
       "(45000, 32, 32, 3)"
      ]
     },
     "execution_count": 7,
     "metadata": {},
     "output_type": "execute_result"
    }
   ],
   "source": [
    "X_train.shape"
   ]
  },
  {
   "cell_type": "code",
   "execution_count": 8,
   "id": "11356c89",
   "metadata": {
    "execution": {
     "iopub.execute_input": "2022-01-24T01:20:10.983536Z",
     "iopub.status.busy": "2022-01-24T01:20:10.982799Z",
     "iopub.status.idle": "2022-01-24T01:20:10.987706Z",
     "shell.execute_reply": "2022-01-24T01:20:10.988215Z",
     "shell.execute_reply.started": "2022-01-24T00:53:18.950523Z"
    },
    "papermill": {
     "duration": 0.056974,
     "end_time": "2022-01-24T01:20:10.988406",
     "exception": false,
     "start_time": "2022-01-24T01:20:10.931432",
     "status": "completed"
    },
    "tags": []
   },
   "outputs": [],
   "source": [
    "tf.keras.backend.clear_session()\n",
    "np.random.seed(42)"
   ]
  },
  {
   "cell_type": "code",
   "execution_count": 9,
   "id": "8dd20389",
   "metadata": {
    "execution": {
     "iopub.execute_input": "2022-01-24T01:20:11.088239Z",
     "iopub.status.busy": "2022-01-24T01:20:11.087179Z",
     "iopub.status.idle": "2022-01-24T01:20:12.166981Z",
     "shell.execute_reply": "2022-01-24T01:20:12.166258Z",
     "shell.execute_reply.started": "2022-01-24T00:53:18.967162Z"
    },
    "papermill": {
     "duration": 1.131767,
     "end_time": "2022-01-24T01:20:12.167162",
     "exception": false,
     "start_time": "2022-01-24T01:20:11.035395",
     "status": "completed"
    },
    "tags": []
   },
   "outputs": [],
   "source": [
    "with tpu_strategy.scope():\n",
    "    model = keras.models.Sequential()\n",
    "    for i in range(21):\n",
    "        if i == 0:\n",
    "            model.add(keras.layers.Flatten(input_shape=(32, 32, 3)))\n",
    "        else:\n",
    "            model.add(keras.layers.Dense(100, kernel_initializer='he_normal', activation='elu'))\n",
    "    model.add(keras.layers.Dense(10, activation='softmax'))\n",
    "    model.compile(loss='sparse_categorical_crossentropy',\n",
    "                optimizer=keras.optimizers.Nadam(),\n",
    "                metrics=['accuracy'])"
   ]
  },
  {
   "cell_type": "markdown",
   "id": "bedd531b",
   "metadata": {
    "papermill": {
     "duration": 0.047687,
     "end_time": "2022-01-24T01:20:12.262512",
     "exception": false,
     "start_time": "2022-01-24T01:20:12.214825",
     "status": "completed"
    },
    "tags": []
   },
   "source": [
    "## b)\n",
    "Using Nadam Optimization and early stopping, train the network."
   ]
  },
  {
   "cell_type": "code",
   "execution_count": 10,
   "id": "96ed4494",
   "metadata": {
    "execution": {
     "iopub.execute_input": "2022-01-24T01:20:12.363774Z",
     "iopub.status.busy": "2022-01-24T01:20:12.363057Z",
     "iopub.status.idle": "2022-01-24T01:26:26.641707Z",
     "shell.execute_reply": "2022-01-24T01:26:26.642627Z",
     "shell.execute_reply.started": "2022-01-24T00:53:19.637818Z"
    },
    "papermill": {
     "duration": 374.333231,
     "end_time": "2022-01-24T01:26:26.642830",
     "exception": false,
     "start_time": "2022-01-24T01:20:12.309599",
     "status": "completed"
    },
    "tags": []
   },
   "outputs": [
    {
     "name": "stdout",
     "output_type": "stream",
     "text": [
      "Epoch 1/100\n",
      "352/352 [==============================] - 21s 29ms/step - loss: 15.4664 - accuracy: 0.1508 - val_loss: 2.0135 - val_accuracy: 0.2698\n",
      "Epoch 2/100\n",
      "352/352 [==============================] - 6s 17ms/step - loss: 2.0271 - accuracy: 0.2563 - val_loss: 2.0057 - val_accuracy: 0.2554\n",
      "Epoch 3/100\n",
      "352/352 [==============================] - 6s 17ms/step - loss: 1.9329 - accuracy: 0.2933 - val_loss: 2.0733 - val_accuracy: 0.2702\n",
      "Epoch 4/100\n",
      "352/352 [==============================] - 6s 17ms/step - loss: 1.8852 - accuracy: 0.3123 - val_loss: 1.9752 - val_accuracy: 0.2818\n",
      "Epoch 5/100\n",
      "352/352 [==============================] - 6s 17ms/step - loss: 1.8252 - accuracy: 0.3371 - val_loss: 1.7782 - val_accuracy: 0.3540\n",
      "Epoch 6/100\n",
      "352/352 [==============================] - 6s 17ms/step - loss: 1.7836 - accuracy: 0.3532 - val_loss: 1.7376 - val_accuracy: 0.3676\n",
      "Epoch 7/100\n",
      "352/352 [==============================] - 6s 17ms/step - loss: 1.7587 - accuracy: 0.3670 - val_loss: 1.7472 - val_accuracy: 0.3702\n",
      "Epoch 8/100\n",
      "352/352 [==============================] - 6s 17ms/step - loss: 1.7485 - accuracy: 0.3696 - val_loss: 1.8879 - val_accuracy: 0.3174\n",
      "Epoch 9/100\n",
      "352/352 [==============================] - 6s 17ms/step - loss: 1.7208 - accuracy: 0.3781 - val_loss: 1.9002 - val_accuracy: 0.3120\n",
      "Epoch 10/100\n",
      "352/352 [==============================] - 6s 17ms/step - loss: 1.6924 - accuracy: 0.3910 - val_loss: 1.7901 - val_accuracy: 0.3614\n",
      "Epoch 11/100\n",
      "352/352 [==============================] - 6s 17ms/step - loss: 1.6752 - accuracy: 0.3981 - val_loss: 1.6502 - val_accuracy: 0.4068\n",
      "Epoch 12/100\n",
      "352/352 [==============================] - 6s 17ms/step - loss: 1.6560 - accuracy: 0.4010 - val_loss: 1.7367 - val_accuracy: 0.3760\n",
      "Epoch 13/100\n",
      "352/352 [==============================] - 6s 17ms/step - loss: 1.6542 - accuracy: 0.4059 - val_loss: 1.6545 - val_accuracy: 0.4030\n",
      "Epoch 14/100\n",
      "352/352 [==============================] - 6s 17ms/step - loss: 1.6264 - accuracy: 0.4158 - val_loss: 1.6452 - val_accuracy: 0.4080\n",
      "Epoch 15/100\n",
      "352/352 [==============================] - 6s 17ms/step - loss: 1.6084 - accuracy: 0.4209 - val_loss: 1.6827 - val_accuracy: 0.3924\n",
      "Epoch 16/100\n",
      "352/352 [==============================] - 6s 17ms/step - loss: 1.6024 - accuracy: 0.4270 - val_loss: 1.7136 - val_accuracy: 0.3848\n",
      "Epoch 17/100\n",
      "352/352 [==============================] - 6s 17ms/step - loss: 1.5917 - accuracy: 0.4312 - val_loss: 1.6607 - val_accuracy: 0.4040\n",
      "Epoch 18/100\n",
      "352/352 [==============================] - 6s 17ms/step - loss: 1.5824 - accuracy: 0.4342 - val_loss: 1.6156 - val_accuracy: 0.4188\n",
      "Epoch 19/100\n",
      "352/352 [==============================] - 6s 17ms/step - loss: 1.5614 - accuracy: 0.4424 - val_loss: 1.6222 - val_accuracy: 0.4302\n",
      "Epoch 20/100\n",
      "352/352 [==============================] - 6s 18ms/step - loss: 1.5574 - accuracy: 0.4465 - val_loss: 1.6016 - val_accuracy: 0.4362\n",
      "Epoch 21/100\n",
      "352/352 [==============================] - 6s 17ms/step - loss: 1.5423 - accuracy: 0.4483 - val_loss: 1.6746 - val_accuracy: 0.4124\n",
      "Epoch 22/100\n",
      "352/352 [==============================] - 6s 17ms/step - loss: 1.5338 - accuracy: 0.4502 - val_loss: 1.6178 - val_accuracy: 0.4270\n",
      "Epoch 23/100\n",
      "352/352 [==============================] - 6s 17ms/step - loss: 1.5249 - accuracy: 0.4539 - val_loss: 1.6607 - val_accuracy: 0.4084\n",
      "Epoch 24/100\n",
      "352/352 [==============================] - 6s 17ms/step - loss: 1.5181 - accuracy: 0.4625 - val_loss: 1.6326 - val_accuracy: 0.4126\n",
      "Epoch 25/100\n",
      "352/352 [==============================] - 6s 17ms/step - loss: 1.5085 - accuracy: 0.4651 - val_loss: 1.5795 - val_accuracy: 0.4440\n",
      "Epoch 26/100\n",
      "352/352 [==============================] - 6s 17ms/step - loss: 1.4839 - accuracy: 0.4714 - val_loss: 1.5544 - val_accuracy: 0.4526\n",
      "Epoch 27/100\n",
      "352/352 [==============================] - 6s 17ms/step - loss: 1.4852 - accuracy: 0.4757 - val_loss: 1.5750 - val_accuracy: 0.4426\n",
      "Epoch 28/100\n",
      "352/352 [==============================] - 6s 17ms/step - loss: 1.4764 - accuracy: 0.4749 - val_loss: 1.5775 - val_accuracy: 0.4448\n",
      "Epoch 29/100\n",
      "352/352 [==============================] - 6s 17ms/step - loss: 1.4588 - accuracy: 0.4813 - val_loss: 1.5958 - val_accuracy: 0.4290\n",
      "Epoch 30/100\n",
      "352/352 [==============================] - 6s 17ms/step - loss: 1.4558 - accuracy: 0.4836 - val_loss: 1.5894 - val_accuracy: 0.4416\n",
      "Epoch 31/100\n",
      "352/352 [==============================] - 6s 17ms/step - loss: 1.4527 - accuracy: 0.4842 - val_loss: 1.5715 - val_accuracy: 0.4410\n",
      "Epoch 32/100\n",
      "352/352 [==============================] - 6s 17ms/step - loss: 1.4471 - accuracy: 0.4832 - val_loss: 1.5611 - val_accuracy: 0.4590\n",
      "Epoch 33/100\n",
      "352/352 [==============================] - 6s 17ms/step - loss: 1.4356 - accuracy: 0.4873 - val_loss: 1.5257 - val_accuracy: 0.4630\n",
      "Epoch 34/100\n",
      "352/352 [==============================] - 6s 17ms/step - loss: 1.4271 - accuracy: 0.4909 - val_loss: 1.5299 - val_accuracy: 0.4524\n",
      "Epoch 35/100\n",
      "352/352 [==============================] - 6s 17ms/step - loss: 1.4119 - accuracy: 0.4966 - val_loss: 1.5326 - val_accuracy: 0.4592\n",
      "Epoch 36/100\n",
      "352/352 [==============================] - 6s 17ms/step - loss: 1.4065 - accuracy: 0.5007 - val_loss: 1.5432 - val_accuracy: 0.4582\n",
      "Epoch 37/100\n",
      "352/352 [==============================] - 6s 17ms/step - loss: 1.3991 - accuracy: 0.4978 - val_loss: 1.5453 - val_accuracy: 0.4584\n",
      "Epoch 38/100\n",
      "352/352 [==============================] - 6s 17ms/step - loss: 1.3877 - accuracy: 0.5079 - val_loss: 1.5553 - val_accuracy: 0.4676\n",
      "Epoch 39/100\n",
      "352/352 [==============================] - 6s 17ms/step - loss: 1.3742 - accuracy: 0.5140 - val_loss: 1.5196 - val_accuracy: 0.4700\n",
      "Epoch 40/100\n",
      "352/352 [==============================] - 6s 17ms/step - loss: 1.3703 - accuracy: 0.5145 - val_loss: 1.5545 - val_accuracy: 0.4478\n",
      "Epoch 41/100\n",
      "352/352 [==============================] - 6s 17ms/step - loss: 1.3626 - accuracy: 0.5134 - val_loss: 1.5640 - val_accuracy: 0.4540\n",
      "Epoch 42/100\n",
      "352/352 [==============================] - 6s 17ms/step - loss: 1.3654 - accuracy: 0.5146 - val_loss: 1.5679 - val_accuracy: 0.4524\n",
      "Epoch 43/100\n",
      "352/352 [==============================] - 6s 17ms/step - loss: 1.3495 - accuracy: 0.5246 - val_loss: 1.5696 - val_accuracy: 0.4490\n",
      "Epoch 44/100\n",
      "352/352 [==============================] - 6s 17ms/step - loss: 1.3336 - accuracy: 0.5258 - val_loss: 1.5540 - val_accuracy: 0.4504\n",
      "Epoch 45/100\n",
      "352/352 [==============================] - 6s 17ms/step - loss: 1.3444 - accuracy: 0.5229 - val_loss: 1.5612 - val_accuracy: 0.4640\n",
      "Epoch 46/100\n",
      "352/352 [==============================] - 6s 17ms/step - loss: 1.3341 - accuracy: 0.5262 - val_loss: 1.5564 - val_accuracy: 0.4568\n",
      "Epoch 47/100\n",
      "352/352 [==============================] - 6s 17ms/step - loss: 1.3206 - accuracy: 0.5331 - val_loss: 1.5492 - val_accuracy: 0.4636\n",
      "Epoch 48/100\n",
      "352/352 [==============================] - 6s 17ms/step - loss: 1.7890 - accuracy: 0.3478 - val_loss: 2.1906 - val_accuracy: 0.1664\n",
      "Epoch 49/100\n",
      "352/352 [==============================] - 6s 17ms/step - loss: 2.1601 - accuracy: 0.1787 - val_loss: 2.0404 - val_accuracy: 0.2324\n",
      "Epoch 50/100\n",
      "352/352 [==============================] - 6s 17ms/step - loss: 1.9964 - accuracy: 0.2512 - val_loss: 1.9363 - val_accuracy: 0.2792\n",
      "Epoch 51/100\n",
      "352/352 [==============================] - 6s 17ms/step - loss: 1.9058 - accuracy: 0.2845 - val_loss: 1.9146 - val_accuracy: 0.2926\n",
      "Epoch 52/100\n",
      "352/352 [==============================] - 6s 17ms/step - loss: 1.8724 - accuracy: 0.2925 - val_loss: 1.8432 - val_accuracy: 0.3068\n",
      "Epoch 53/100\n",
      "352/352 [==============================] - 6s 17ms/step - loss: 1.8406 - accuracy: 0.3105 - val_loss: 1.8448 - val_accuracy: 0.3114\n",
      "Epoch 54/100\n",
      "352/352 [==============================] - 6s 17ms/step - loss: 1.8173 - accuracy: 0.3197 - val_loss: 1.8412 - val_accuracy: 0.3094\n",
      "Epoch 55/100\n",
      "352/352 [==============================] - 6s 17ms/step - loss: 1.7920 - accuracy: 0.3351 - val_loss: 1.7965 - val_accuracy: 0.3318\n",
      "Epoch 56/100\n",
      "352/352 [==============================] - 6s 17ms/step - loss: 1.7670 - accuracy: 0.3476 - val_loss: 1.7973 - val_accuracy: 0.3226\n",
      "Epoch 57/100\n",
      "352/352 [==============================] - 6s 17ms/step - loss: 1.7535 - accuracy: 0.3586 - val_loss: 1.7826 - val_accuracy: 0.3570\n",
      "Epoch 58/100\n",
      "352/352 [==============================] - 6s 17ms/step - loss: 1.7329 - accuracy: 0.3677 - val_loss: 1.7661 - val_accuracy: 0.3574\n",
      "Epoch 59/100\n",
      "352/352 [==============================] - 6s 17ms/step - loss: 1.7171 - accuracy: 0.3734 - val_loss: 1.7224 - val_accuracy: 0.3766\n"
     ]
    }
   ],
   "source": [
    "# Using Nadam Optimization and early stopping, train the network.\n",
    "early_stopping = keras.callbacks.EarlyStopping(monitor='val_loss', patience=20)\n",
    "model_checkpoint = keras.callbacks.ModelCheckpoint('cifar10_model.h5', save_best_only=True)\n",
    "BATCH_SIZE = 16 * tpu_strategy.num_replicas_in_sync\n",
    "history = model.fit(X_train, y_train, epochs=100, validation_data=(X_valid, y_valid), \n",
    "                    callbacks=[early_stopping, model_checkpoint],\n",
    "                    batch_size=BATCH_SIZE)"
   ]
  },
  {
   "cell_type": "code",
   "execution_count": 11,
   "id": "681badc0",
   "metadata": {
    "execution": {
     "iopub.execute_input": "2022-01-24T01:26:29.966892Z",
     "iopub.status.busy": "2022-01-24T01:26:29.966151Z",
     "iopub.status.idle": "2022-01-24T01:26:31.922960Z",
     "shell.execute_reply": "2022-01-24T01:26:31.922199Z",
     "shell.execute_reply.started": "2022-01-24T00:58:52.991783Z"
    },
    "papermill": {
     "duration": 3.644325,
     "end_time": "2022-01-24T01:26:31.923132",
     "exception": false,
     "start_time": "2022-01-24T01:26:28.278807",
     "status": "completed"
    },
    "tags": []
   },
   "outputs": [],
   "source": [
    "import plotly.graph_objects as go\n",
    "import plotly.express as px\n",
    "from plotly.subplots import make_subplots\n",
    "\n",
    "# subplots of loss and accuracy\n",
    "\n",
    "def compare_loss_acc(history):\n",
    "    # returns a plotly figure of the loss and accuracy curves for training and validation\n",
    "    fig = make_subplots(rows=1, cols=2)\n",
    "    fig.add_trace(go.Scatter(x=history.epoch, y=history.history['loss'], name='Training Loss'), row=1, col=1)\n",
    "    fig.add_trace(go.Scatter(x=history.epoch, y=history.history['val_loss'], name='Validation Loss'), row=1, col=1)\n",
    "    fig.add_trace(go.Scatter(x=history.epoch, y=history.history['accuracy'], name='Training Accuracy'), row=1, col=2)\n",
    "    fig.add_trace(go.Scatter(x=history.epoch, y=history.history['val_accuracy'], name='Validation Accuracy'), row=1, col=2)\n",
    "    fig.update_layout(height=600, width=1000)\n",
    "    return fig"
   ]
  },
  {
   "cell_type": "code",
   "execution_count": 12,
   "id": "813ab237",
   "metadata": {
    "execution": {
     "iopub.execute_input": "2022-01-24T01:26:35.218293Z",
     "iopub.status.busy": "2022-01-24T01:26:35.217604Z",
     "iopub.status.idle": "2022-01-24T01:26:35.460480Z",
     "shell.execute_reply": "2022-01-24T01:26:35.460971Z",
     "shell.execute_reply.started": "2022-01-24T00:58:54.453832Z"
    },
    "papermill": {
     "duration": 1.883906,
     "end_time": "2022-01-24T01:26:35.461171",
     "exception": false,
     "start_time": "2022-01-24T01:26:33.577265",
     "status": "completed"
    },
    "tags": []
   },
   "outputs": [
    {
     "data": {
      "text/html": [
       "        <script type=\"text/javascript\">\n",
       "        window.PlotlyConfig = {MathJaxConfig: 'local'};\n",
       "        if (window.MathJax) {MathJax.Hub.Config({SVG: {font: \"STIX-Web\"}});}\n",
       "        if (typeof require !== 'undefined') {\n",
       "        require.undef(\"plotly\");\n",
       "        requirejs.config({\n",
       "            paths: {\n",
       "                'plotly': ['https://cdn.plot.ly/plotly-2.4.2.min']\n",
       "            }\n",
       "        });\n",
       "        require(['plotly'], function(Plotly) {\n",
       "            window._Plotly = Plotly;\n",
       "        });\n",
       "        }\n",
       "        </script>\n",
       "        "
      ]
     },
     "metadata": {},
     "output_type": "display_data"
    },
    {
     "data": {
      "text/html": [
       "<div>                            <div id=\"a46a82ff-8fdf-47ec-aa07-f74b77225f02\" class=\"plotly-graph-div\" style=\"height:600px; width:1000px;\"></div>            <script type=\"text/javascript\">                require([\"plotly\"], function(Plotly) {                    window.PLOTLYENV=window.PLOTLYENV || {};                                    if (document.getElementById(\"a46a82ff-8fdf-47ec-aa07-f74b77225f02\")) {                    Plotly.newPlot(                        \"a46a82ff-8fdf-47ec-aa07-f74b77225f02\",                        [{\"name\":\"Training Loss\",\"type\":\"scatter\",\"x\":[0,1,2,3,4,5,6,7,8,9,10,11,12,13,14,15,16,17,18,19,20,21,22,23,24,25,26,27,28,29,30,31,32,33,34,35,36,37,38,39,40,41,42,43,44,45,46,47,48,49,50,51,52,53,54,55,56,57,58],\"xaxis\":\"x\",\"y\":[5.353203773498535,1.9902913570404053,1.9177454710006714,1.8679522275924683,1.8210676908493042,1.7865443229675293,1.7591785192489624,1.7383158206939697,1.7168878316879272,1.6940577030181885,1.6771187782287598,1.6624562740325928,1.650217056274414,1.6282484531402588,1.613437533378601,1.603782296180725,1.5896625518798828,1.5777426958084106,1.5702431201934814,1.566028356552124,1.5443116426467896,1.5299838781356812,1.5268096923828125,1.5192044973373413,1.5082918405532837,1.4983949661254883,1.4903626441955566,1.4824891090393066,1.4701869487762451,1.4665508270263672,1.4529461860656738,1.4476333856582642,1.4381471872329712,1.4322642087936401,1.4231036901474,1.4120134115219116,1.4033924341201782,1.3968263864517212,1.3914929628372192,1.383323073387146,1.3731175661087036,1.372157335281372,1.3609777688980103,1.3484302759170532,1.3457196950912476,1.3351987600326538,1.3303197622299194,2.0981101989746094,2.1052966117858887,1.9746088981628418,1.8972299098968506,1.8632287979125977,1.834811806678772,1.8073574304580688,1.7844295501708984,1.7662012577056885,1.7446823120117188,1.7303078174591064,1.71232271194458],\"yaxis\":\"y\"},{\"name\":\"Validation Loss\",\"type\":\"scatter\",\"x\":[0,1,2,3,4,5,6,7,8,9,10,11,12,13,14,15,16,17,18,19,20,21,22,23,24,25,26,27,28,29,30,31,32,33,34,35,36,37,38,39,40,41,42,43,44,45,46,47,48,49,50,51,52,53,54,55,56,57,58],\"xaxis\":\"x\",\"y\":[2.0135457515716553,2.0057456493377686,2.073269844055176,1.9751873016357422,1.7782444953918457,1.7375562191009521,1.7471985816955566,1.8879204988479614,1.9001845121383667,1.790076494216919,1.6502162218093872,1.7366745471954346,1.6545438766479492,1.6452142000198364,1.6827445030212402,1.7136059999465942,1.660689353942871,1.6156197786331177,1.6221541166305542,1.6016409397125244,1.6745682954788208,1.6178169250488281,1.660721778869629,1.632619857788086,1.5794978141784668,1.5544254779815674,1.5750404596328735,1.5774834156036377,1.5958296060562134,1.5894114971160889,1.5714538097381592,1.561098575592041,1.5257370471954346,1.5298595428466797,1.5325927734375,1.5431733131408691,1.545348882675171,1.5553268194198608,1.5196459293365479,1.5545098781585693,1.5640324354171753,1.5678672790527344,1.5696210861206055,1.5540324449539185,1.5612047910690308,1.5563961267471313,1.5492311716079712,2.190631151199341,2.040388584136963,1.9363439083099365,1.9145762920379639,1.8432233333587646,1.844807744026184,1.8411520719528198,1.7965483665466309,1.797345519065857,1.7825857400894165,1.7661042213439941,1.7224315404891968],\"yaxis\":\"y\"},{\"name\":\"Training Accuracy\",\"type\":\"scatter\",\"x\":[0,1,2,3,4,5,6,7,8,9,10,11,12,13,14,15,16,17,18,19,20,21,22,23,24,25,26,27,28,29,30,31,32,33,34,35,36,37,38,39,40,41,42,43,44,45,46,47,48,49,50,51,52,53,54,55,56,57,58],\"xaxis\":\"x2\",\"y\":[0.19544444978237152,0.26928889751434326,0.3010222315788269,0.32126668095588684,0.34040001034736633,0.3520444631576538,0.36535555124282837,0.37353333830833435,0.3810666799545288,0.3909333348274231,0.3961777687072754,0.4011777937412262,0.40637779235839844,0.4146222174167633,0.42166668176651,0.42551112174987793,0.43168890476226807,0.43684443831443787,0.4388444423675537,0.44137778878211975,0.446577787399292,0.4529777765274048,0.4547777771949768,0.4599111080169678,0.4635777771472931,0.46648889780044556,0.47040000557899475,0.4731111228466034,0.47760000824928284,0.478977769613266,0.4841555655002594,0.48537778854370117,0.4873333275318146,0.4894888997077942,0.4939555525779724,0.49746668338775635,0.4999111294746399,0.5057333111763,0.505311131477356,0.5089333653450012,0.511555552482605,0.5138000249862671,0.5198888778686523,0.521755576133728,0.5226444602012634,0.5255333185195923,0.5269333124160767,0.2176888883113861,0.2047777771949768,0.2640444338321686,0.28591111302375793,0.2976444363594055,0.3131111264228821,0.32635554671287537,0.33677777647972107,0.34948888421058655,0.36186668276786804,0.369133323431015,0.3763555586338043],\"yaxis\":\"y2\"},{\"name\":\"Validation Accuracy\",\"type\":\"scatter\",\"x\":[0,1,2,3,4,5,6,7,8,9,10,11,12,13,14,15,16,17,18,19,20,21,22,23,24,25,26,27,28,29,30,31,32,33,34,35,36,37,38,39,40,41,42,43,44,45,46,47,48,49,50,51,52,53,54,55,56,57,58],\"xaxis\":\"x2\",\"y\":[0.26980000734329224,0.25540000200271606,0.2701999843120575,0.2818000018596649,0.3540000021457672,0.3675999939441681,0.370199978351593,0.3173999786376953,0.31200000643730164,0.36139997839927673,0.4068000018596649,0.37599998712539673,0.40299999713897705,0.40799999237060547,0.39239999651908875,0.384799987077713,0.4039999842643738,0.4187999963760376,0.4301999807357788,0.43619999289512634,0.4123999774456024,0.4269999861717224,0.4083999991416931,0.41259998083114624,0.4439999759197235,0.45260000228881836,0.44259998202323914,0.4447999894618988,0.42899999022483826,0.4415999948978424,0.44099998474121094,0.45899999141693115,0.46299999952316284,0.45239999890327454,0.459199994802475,0.45819997787475586,0.4583999812602997,0.4675999879837036,0.4699999988079071,0.4477999806404114,0.45399999618530273,0.45239999890327454,0.4490000009536743,0.4503999948501587,0.46399998664855957,0.4567999839782715,0.4635999798774719,0.1664000004529953,0.23240000009536743,0.2791999876499176,0.29260000586509705,0.306799978017807,0.31139999628067017,0.3093999922275543,0.3317999839782715,0.32259997725486755,0.3569999933242798,0.35740000009536743,0.3765999972820282],\"yaxis\":\"y2\"}],                        {\"height\":600,\"template\":{\"data\":{\"bar\":[{\"error_x\":{\"color\":\"#2a3f5f\"},\"error_y\":{\"color\":\"#2a3f5f\"},\"marker\":{\"line\":{\"color\":\"#E5ECF6\",\"width\":0.5},\"pattern\":{\"fillmode\":\"overlay\",\"size\":10,\"solidity\":0.2}},\"type\":\"bar\"}],\"barpolar\":[{\"marker\":{\"line\":{\"color\":\"#E5ECF6\",\"width\":0.5},\"pattern\":{\"fillmode\":\"overlay\",\"size\":10,\"solidity\":0.2}},\"type\":\"barpolar\"}],\"carpet\":[{\"aaxis\":{\"endlinecolor\":\"#2a3f5f\",\"gridcolor\":\"white\",\"linecolor\":\"white\",\"minorgridcolor\":\"white\",\"startlinecolor\":\"#2a3f5f\"},\"baxis\":{\"endlinecolor\":\"#2a3f5f\",\"gridcolor\":\"white\",\"linecolor\":\"white\",\"minorgridcolor\":\"white\",\"startlinecolor\":\"#2a3f5f\"},\"type\":\"carpet\"}],\"choropleth\":[{\"colorbar\":{\"outlinewidth\":0,\"ticks\":\"\"},\"type\":\"choropleth\"}],\"contour\":[{\"colorbar\":{\"outlinewidth\":0,\"ticks\":\"\"},\"colorscale\":[[0.0,\"#0d0887\"],[0.1111111111111111,\"#46039f\"],[0.2222222222222222,\"#7201a8\"],[0.3333333333333333,\"#9c179e\"],[0.4444444444444444,\"#bd3786\"],[0.5555555555555556,\"#d8576b\"],[0.6666666666666666,\"#ed7953\"],[0.7777777777777778,\"#fb9f3a\"],[0.8888888888888888,\"#fdca26\"],[1.0,\"#f0f921\"]],\"type\":\"contour\"}],\"contourcarpet\":[{\"colorbar\":{\"outlinewidth\":0,\"ticks\":\"\"},\"type\":\"contourcarpet\"}],\"heatmap\":[{\"colorbar\":{\"outlinewidth\":0,\"ticks\":\"\"},\"colorscale\":[[0.0,\"#0d0887\"],[0.1111111111111111,\"#46039f\"],[0.2222222222222222,\"#7201a8\"],[0.3333333333333333,\"#9c179e\"],[0.4444444444444444,\"#bd3786\"],[0.5555555555555556,\"#d8576b\"],[0.6666666666666666,\"#ed7953\"],[0.7777777777777778,\"#fb9f3a\"],[0.8888888888888888,\"#fdca26\"],[1.0,\"#f0f921\"]],\"type\":\"heatmap\"}],\"heatmapgl\":[{\"colorbar\":{\"outlinewidth\":0,\"ticks\":\"\"},\"colorscale\":[[0.0,\"#0d0887\"],[0.1111111111111111,\"#46039f\"],[0.2222222222222222,\"#7201a8\"],[0.3333333333333333,\"#9c179e\"],[0.4444444444444444,\"#bd3786\"],[0.5555555555555556,\"#d8576b\"],[0.6666666666666666,\"#ed7953\"],[0.7777777777777778,\"#fb9f3a\"],[0.8888888888888888,\"#fdca26\"],[1.0,\"#f0f921\"]],\"type\":\"heatmapgl\"}],\"histogram\":[{\"marker\":{\"pattern\":{\"fillmode\":\"overlay\",\"size\":10,\"solidity\":0.2}},\"type\":\"histogram\"}],\"histogram2d\":[{\"colorbar\":{\"outlinewidth\":0,\"ticks\":\"\"},\"colorscale\":[[0.0,\"#0d0887\"],[0.1111111111111111,\"#46039f\"],[0.2222222222222222,\"#7201a8\"],[0.3333333333333333,\"#9c179e\"],[0.4444444444444444,\"#bd3786\"],[0.5555555555555556,\"#d8576b\"],[0.6666666666666666,\"#ed7953\"],[0.7777777777777778,\"#fb9f3a\"],[0.8888888888888888,\"#fdca26\"],[1.0,\"#f0f921\"]],\"type\":\"histogram2d\"}],\"histogram2dcontour\":[{\"colorbar\":{\"outlinewidth\":0,\"ticks\":\"\"},\"colorscale\":[[0.0,\"#0d0887\"],[0.1111111111111111,\"#46039f\"],[0.2222222222222222,\"#7201a8\"],[0.3333333333333333,\"#9c179e\"],[0.4444444444444444,\"#bd3786\"],[0.5555555555555556,\"#d8576b\"],[0.6666666666666666,\"#ed7953\"],[0.7777777777777778,\"#fb9f3a\"],[0.8888888888888888,\"#fdca26\"],[1.0,\"#f0f921\"]],\"type\":\"histogram2dcontour\"}],\"mesh3d\":[{\"colorbar\":{\"outlinewidth\":0,\"ticks\":\"\"},\"type\":\"mesh3d\"}],\"parcoords\":[{\"line\":{\"colorbar\":{\"outlinewidth\":0,\"ticks\":\"\"}},\"type\":\"parcoords\"}],\"pie\":[{\"automargin\":true,\"type\":\"pie\"}],\"scatter\":[{\"marker\":{\"colorbar\":{\"outlinewidth\":0,\"ticks\":\"\"}},\"type\":\"scatter\"}],\"scatter3d\":[{\"line\":{\"colorbar\":{\"outlinewidth\":0,\"ticks\":\"\"}},\"marker\":{\"colorbar\":{\"outlinewidth\":0,\"ticks\":\"\"}},\"type\":\"scatter3d\"}],\"scattercarpet\":[{\"marker\":{\"colorbar\":{\"outlinewidth\":0,\"ticks\":\"\"}},\"type\":\"scattercarpet\"}],\"scattergeo\":[{\"marker\":{\"colorbar\":{\"outlinewidth\":0,\"ticks\":\"\"}},\"type\":\"scattergeo\"}],\"scattergl\":[{\"marker\":{\"colorbar\":{\"outlinewidth\":0,\"ticks\":\"\"}},\"type\":\"scattergl\"}],\"scattermapbox\":[{\"marker\":{\"colorbar\":{\"outlinewidth\":0,\"ticks\":\"\"}},\"type\":\"scattermapbox\"}],\"scatterpolar\":[{\"marker\":{\"colorbar\":{\"outlinewidth\":0,\"ticks\":\"\"}},\"type\":\"scatterpolar\"}],\"scatterpolargl\":[{\"marker\":{\"colorbar\":{\"outlinewidth\":0,\"ticks\":\"\"}},\"type\":\"scatterpolargl\"}],\"scatterternary\":[{\"marker\":{\"colorbar\":{\"outlinewidth\":0,\"ticks\":\"\"}},\"type\":\"scatterternary\"}],\"surface\":[{\"colorbar\":{\"outlinewidth\":0,\"ticks\":\"\"},\"colorscale\":[[0.0,\"#0d0887\"],[0.1111111111111111,\"#46039f\"],[0.2222222222222222,\"#7201a8\"],[0.3333333333333333,\"#9c179e\"],[0.4444444444444444,\"#bd3786\"],[0.5555555555555556,\"#d8576b\"],[0.6666666666666666,\"#ed7953\"],[0.7777777777777778,\"#fb9f3a\"],[0.8888888888888888,\"#fdca26\"],[1.0,\"#f0f921\"]],\"type\":\"surface\"}],\"table\":[{\"cells\":{\"fill\":{\"color\":\"#EBF0F8\"},\"line\":{\"color\":\"white\"}},\"header\":{\"fill\":{\"color\":\"#C8D4E3\"},\"line\":{\"color\":\"white\"}},\"type\":\"table\"}]},\"layout\":{\"annotationdefaults\":{\"arrowcolor\":\"#2a3f5f\",\"arrowhead\":0,\"arrowwidth\":1},\"autotypenumbers\":\"strict\",\"coloraxis\":{\"colorbar\":{\"outlinewidth\":0,\"ticks\":\"\"}},\"colorscale\":{\"diverging\":[[0,\"#8e0152\"],[0.1,\"#c51b7d\"],[0.2,\"#de77ae\"],[0.3,\"#f1b6da\"],[0.4,\"#fde0ef\"],[0.5,\"#f7f7f7\"],[0.6,\"#e6f5d0\"],[0.7,\"#b8e186\"],[0.8,\"#7fbc41\"],[0.9,\"#4d9221\"],[1,\"#276419\"]],\"sequential\":[[0.0,\"#0d0887\"],[0.1111111111111111,\"#46039f\"],[0.2222222222222222,\"#7201a8\"],[0.3333333333333333,\"#9c179e\"],[0.4444444444444444,\"#bd3786\"],[0.5555555555555556,\"#d8576b\"],[0.6666666666666666,\"#ed7953\"],[0.7777777777777778,\"#fb9f3a\"],[0.8888888888888888,\"#fdca26\"],[1.0,\"#f0f921\"]],\"sequentialminus\":[[0.0,\"#0d0887\"],[0.1111111111111111,\"#46039f\"],[0.2222222222222222,\"#7201a8\"],[0.3333333333333333,\"#9c179e\"],[0.4444444444444444,\"#bd3786\"],[0.5555555555555556,\"#d8576b\"],[0.6666666666666666,\"#ed7953\"],[0.7777777777777778,\"#fb9f3a\"],[0.8888888888888888,\"#fdca26\"],[1.0,\"#f0f921\"]]},\"colorway\":[\"#636efa\",\"#EF553B\",\"#00cc96\",\"#ab63fa\",\"#FFA15A\",\"#19d3f3\",\"#FF6692\",\"#B6E880\",\"#FF97FF\",\"#FECB52\"],\"font\":{\"color\":\"#2a3f5f\"},\"geo\":{\"bgcolor\":\"white\",\"lakecolor\":\"white\",\"landcolor\":\"#E5ECF6\",\"showlakes\":true,\"showland\":true,\"subunitcolor\":\"white\"},\"hoverlabel\":{\"align\":\"left\"},\"hovermode\":\"closest\",\"mapbox\":{\"style\":\"light\"},\"paper_bgcolor\":\"white\",\"plot_bgcolor\":\"#E5ECF6\",\"polar\":{\"angularaxis\":{\"gridcolor\":\"white\",\"linecolor\":\"white\",\"ticks\":\"\"},\"bgcolor\":\"#E5ECF6\",\"radialaxis\":{\"gridcolor\":\"white\",\"linecolor\":\"white\",\"ticks\":\"\"}},\"scene\":{\"xaxis\":{\"backgroundcolor\":\"#E5ECF6\",\"gridcolor\":\"white\",\"gridwidth\":2,\"linecolor\":\"white\",\"showbackground\":true,\"ticks\":\"\",\"zerolinecolor\":\"white\"},\"yaxis\":{\"backgroundcolor\":\"#E5ECF6\",\"gridcolor\":\"white\",\"gridwidth\":2,\"linecolor\":\"white\",\"showbackground\":true,\"ticks\":\"\",\"zerolinecolor\":\"white\"},\"zaxis\":{\"backgroundcolor\":\"#E5ECF6\",\"gridcolor\":\"white\",\"gridwidth\":2,\"linecolor\":\"white\",\"showbackground\":true,\"ticks\":\"\",\"zerolinecolor\":\"white\"}},\"shapedefaults\":{\"line\":{\"color\":\"#2a3f5f\"}},\"ternary\":{\"aaxis\":{\"gridcolor\":\"white\",\"linecolor\":\"white\",\"ticks\":\"\"},\"baxis\":{\"gridcolor\":\"white\",\"linecolor\":\"white\",\"ticks\":\"\"},\"bgcolor\":\"#E5ECF6\",\"caxis\":{\"gridcolor\":\"white\",\"linecolor\":\"white\",\"ticks\":\"\"}},\"title\":{\"x\":0.05},\"xaxis\":{\"automargin\":true,\"gridcolor\":\"white\",\"linecolor\":\"white\",\"ticks\":\"\",\"title\":{\"standoff\":15},\"zerolinecolor\":\"white\",\"zerolinewidth\":2},\"yaxis\":{\"automargin\":true,\"gridcolor\":\"white\",\"linecolor\":\"white\",\"ticks\":\"\",\"title\":{\"standoff\":15},\"zerolinecolor\":\"white\",\"zerolinewidth\":2}}},\"width\":1000,\"xaxis\":{\"anchor\":\"y\",\"domain\":[0.0,0.45]},\"xaxis2\":{\"anchor\":\"y2\",\"domain\":[0.55,1.0]},\"yaxis\":{\"anchor\":\"x\",\"domain\":[0.0,1.0]},\"yaxis2\":{\"anchor\":\"x2\",\"domain\":[0.0,1.0]}},                        {\"responsive\": true}                    ).then(function(){\n",
       "                            \n",
       "var gd = document.getElementById('a46a82ff-8fdf-47ec-aa07-f74b77225f02');\n",
       "var x = new MutationObserver(function (mutations, observer) {{\n",
       "        var display = window.getComputedStyle(gd).display;\n",
       "        if (!display || display === 'none') {{\n",
       "            console.log([gd, 'removed!']);\n",
       "            Plotly.purge(gd);\n",
       "            observer.disconnect();\n",
       "        }}\n",
       "}});\n",
       "\n",
       "// Listen for the removal of the full notebook cells\n",
       "var notebookContainer = gd.closest('#notebook-container');\n",
       "if (notebookContainer) {{\n",
       "    x.observe(notebookContainer, {childList: true});\n",
       "}}\n",
       "\n",
       "// Listen for the clearing of the current output cell\n",
       "var outputEl = gd.closest('.output');\n",
       "if (outputEl) {{\n",
       "    x.observe(outputEl, {childList: true});\n",
       "}}\n",
       "\n",
       "                        })                };                });            </script>        </div>"
      ]
     },
     "metadata": {},
     "output_type": "display_data"
    }
   ],
   "source": [
    "fig = compare_loss_acc(history)\n",
    "fig.show()"
   ]
  },
  {
   "cell_type": "markdown",
   "id": "a28f0b7b",
   "metadata": {
    "papermill": {
     "duration": 1.645727,
     "end_time": "2022-01-24T01:26:38.809594",
     "exception": false,
     "start_time": "2022-01-24T01:26:37.163867",
     "status": "completed"
    },
    "tags": []
   },
   "source": [
    "## c)\n",
    "Add Batch Normalization and compare the learning curves"
   ]
  },
  {
   "cell_type": "code",
   "execution_count": 13,
   "id": "ac5f2f37",
   "metadata": {
    "execution": {
     "iopub.execute_input": "2022-01-24T01:26:42.177395Z",
     "iopub.status.busy": "2022-01-24T01:26:42.176139Z",
     "iopub.status.idle": "2022-01-24T01:26:42.179684Z",
     "shell.execute_reply": "2022-01-24T01:26:42.180202Z",
     "shell.execute_reply.started": "2022-01-24T00:58:54.713918Z"
    },
    "papermill": {
     "duration": 1.709789,
     "end_time": "2022-01-24T01:26:42.180381",
     "exception": false,
     "start_time": "2022-01-24T01:26:40.470592",
     "status": "completed"
    },
    "tags": []
   },
   "outputs": [],
   "source": [
    "tf.keras.backend.clear_session()\n",
    "np.random.seed(42)"
   ]
  },
  {
   "cell_type": "code",
   "execution_count": 14,
   "id": "a8bb53e0",
   "metadata": {
    "execution": {
     "iopub.execute_input": "2022-01-24T01:26:45.541868Z",
     "iopub.status.busy": "2022-01-24T01:26:45.537334Z",
     "iopub.status.idle": "2022-01-24T01:26:47.967267Z",
     "shell.execute_reply": "2022-01-24T01:26:47.966646Z",
     "shell.execute_reply.started": "2022-01-24T00:58:54.724210Z"
    },
    "papermill": {
     "duration": 4.145267,
     "end_time": "2022-01-24T01:26:47.967430",
     "exception": false,
     "start_time": "2022-01-24T01:26:43.822163",
     "status": "completed"
    },
    "tags": []
   },
   "outputs": [],
   "source": [
    "with tpu_strategy.scope():\n",
    "    model_batch = keras.models.Sequential()\n",
    "    for i in range(21):\n",
    "        if i == 0:\n",
    "            model_batch.add(keras.layers.Flatten(input_shape=(32, 32, 3)))\n",
    "            model_batch.add(keras.layers.BatchNormalization())\n",
    "        else:\n",
    "            model_batch.add(keras.layers.Dense(100, kernel_initializer='he_normal'))\n",
    "            model_batch.add(keras.layers.BatchNormalization())\n",
    "            model_batch.add(keras.layers.Activation('elu'))\n",
    "    model_batch.add(keras.layers.Dense(10, activation='softmax'))\n",
    "    model_batch.compile(loss='sparse_categorical_crossentropy',\n",
    "                optimizer=keras.optimizers.Nadam(),\n",
    "                metrics=['accuracy'])"
   ]
  },
  {
   "cell_type": "code",
   "execution_count": 15,
   "id": "915f3d02",
   "metadata": {
    "execution": {
     "iopub.execute_input": "2022-01-24T01:26:51.276580Z",
     "iopub.status.busy": "2022-01-24T01:26:51.275445Z",
     "iopub.status.idle": "2022-01-24T01:26:51.307744Z",
     "shell.execute_reply": "2022-01-24T01:26:51.307168Z",
     "shell.execute_reply.started": "2022-01-24T00:58:57.057233Z"
    },
    "papermill": {
     "duration": 1.679386,
     "end_time": "2022-01-24T01:26:51.307889",
     "exception": false,
     "start_time": "2022-01-24T01:26:49.628503",
     "status": "completed"
    },
    "tags": []
   },
   "outputs": [
    {
     "name": "stdout",
     "output_type": "stream",
     "text": [
      "Model: \"sequential\"\n",
      "_________________________________________________________________\n",
      "Layer (type)                 Output Shape              Param #   \n",
      "=================================================================\n",
      "flatten (Flatten)            (None, 3072)              0         \n",
      "_________________________________________________________________\n",
      "batch_normalization (BatchNo (None, 3072)              12288     \n",
      "_________________________________________________________________\n",
      "dense (Dense)                (None, 100)               307300    \n",
      "_________________________________________________________________\n",
      "batch_normalization_1 (Batch (None, 100)               400       \n",
      "_________________________________________________________________\n",
      "activation (Activation)      (None, 100)               0         \n",
      "_________________________________________________________________\n",
      "dense_1 (Dense)              (None, 100)               10100     \n",
      "_________________________________________________________________\n",
      "batch_normalization_2 (Batch (None, 100)               400       \n",
      "_________________________________________________________________\n",
      "activation_1 (Activation)    (None, 100)               0         \n",
      "_________________________________________________________________\n",
      "dense_2 (Dense)              (None, 100)               10100     \n",
      "_________________________________________________________________\n",
      "batch_normalization_3 (Batch (None, 100)               400       \n",
      "_________________________________________________________________\n",
      "activation_2 (Activation)    (None, 100)               0         \n",
      "_________________________________________________________________\n",
      "dense_3 (Dense)              (None, 100)               10100     \n",
      "_________________________________________________________________\n",
      "batch_normalization_4 (Batch (None, 100)               400       \n",
      "_________________________________________________________________\n",
      "activation_3 (Activation)    (None, 100)               0         \n",
      "_________________________________________________________________\n",
      "dense_4 (Dense)              (None, 100)               10100     \n",
      "_________________________________________________________________\n",
      "batch_normalization_5 (Batch (None, 100)               400       \n",
      "_________________________________________________________________\n",
      "activation_4 (Activation)    (None, 100)               0         \n",
      "_________________________________________________________________\n",
      "dense_5 (Dense)              (None, 100)               10100     \n",
      "_________________________________________________________________\n",
      "batch_normalization_6 (Batch (None, 100)               400       \n",
      "_________________________________________________________________\n",
      "activation_5 (Activation)    (None, 100)               0         \n",
      "_________________________________________________________________\n",
      "dense_6 (Dense)              (None, 100)               10100     \n",
      "_________________________________________________________________\n",
      "batch_normalization_7 (Batch (None, 100)               400       \n",
      "_________________________________________________________________\n",
      "activation_6 (Activation)    (None, 100)               0         \n",
      "_________________________________________________________________\n",
      "dense_7 (Dense)              (None, 100)               10100     \n",
      "_________________________________________________________________\n",
      "batch_normalization_8 (Batch (None, 100)               400       \n",
      "_________________________________________________________________\n",
      "activation_7 (Activation)    (None, 100)               0         \n",
      "_________________________________________________________________\n",
      "dense_8 (Dense)              (None, 100)               10100     \n",
      "_________________________________________________________________\n",
      "batch_normalization_9 (Batch (None, 100)               400       \n",
      "_________________________________________________________________\n",
      "activation_8 (Activation)    (None, 100)               0         \n",
      "_________________________________________________________________\n",
      "dense_9 (Dense)              (None, 100)               10100     \n",
      "_________________________________________________________________\n",
      "batch_normalization_10 (Batc (None, 100)               400       \n",
      "_________________________________________________________________\n",
      "activation_9 (Activation)    (None, 100)               0         \n",
      "_________________________________________________________________\n",
      "dense_10 (Dense)             (None, 100)               10100     \n",
      "_________________________________________________________________\n",
      "batch_normalization_11 (Batc (None, 100)               400       \n",
      "_________________________________________________________________\n",
      "activation_10 (Activation)   (None, 100)               0         \n",
      "_________________________________________________________________\n",
      "dense_11 (Dense)             (None, 100)               10100     \n",
      "_________________________________________________________________\n",
      "batch_normalization_12 (Batc (None, 100)               400       \n",
      "_________________________________________________________________\n",
      "activation_11 (Activation)   (None, 100)               0         \n",
      "_________________________________________________________________\n",
      "dense_12 (Dense)             (None, 100)               10100     \n",
      "_________________________________________________________________\n",
      "batch_normalization_13 (Batc (None, 100)               400       \n",
      "_________________________________________________________________\n",
      "activation_12 (Activation)   (None, 100)               0         \n",
      "_________________________________________________________________\n",
      "dense_13 (Dense)             (None, 100)               10100     \n",
      "_________________________________________________________________\n",
      "batch_normalization_14 (Batc (None, 100)               400       \n",
      "_________________________________________________________________\n",
      "activation_13 (Activation)   (None, 100)               0         \n",
      "_________________________________________________________________\n",
      "dense_14 (Dense)             (None, 100)               10100     \n",
      "_________________________________________________________________\n",
      "batch_normalization_15 (Batc (None, 100)               400       \n",
      "_________________________________________________________________\n",
      "activation_14 (Activation)   (None, 100)               0         \n",
      "_________________________________________________________________\n",
      "dense_15 (Dense)             (None, 100)               10100     \n",
      "_________________________________________________________________\n",
      "batch_normalization_16 (Batc (None, 100)               400       \n",
      "_________________________________________________________________\n",
      "activation_15 (Activation)   (None, 100)               0         \n",
      "_________________________________________________________________\n",
      "dense_16 (Dense)             (None, 100)               10100     \n",
      "_________________________________________________________________\n",
      "batch_normalization_17 (Batc (None, 100)               400       \n",
      "_________________________________________________________________\n",
      "activation_16 (Activation)   (None, 100)               0         \n",
      "_________________________________________________________________\n",
      "dense_17 (Dense)             (None, 100)               10100     \n",
      "_________________________________________________________________\n",
      "batch_normalization_18 (Batc (None, 100)               400       \n",
      "_________________________________________________________________\n",
      "activation_17 (Activation)   (None, 100)               0         \n",
      "_________________________________________________________________\n",
      "dense_18 (Dense)             (None, 100)               10100     \n",
      "_________________________________________________________________\n",
      "batch_normalization_19 (Batc (None, 100)               400       \n",
      "_________________________________________________________________\n",
      "activation_18 (Activation)   (None, 100)               0         \n",
      "_________________________________________________________________\n",
      "dense_19 (Dense)             (None, 100)               10100     \n",
      "_________________________________________________________________\n",
      "batch_normalization_20 (Batc (None, 100)               400       \n",
      "_________________________________________________________________\n",
      "activation_19 (Activation)   (None, 100)               0         \n",
      "_________________________________________________________________\n",
      "dense_20 (Dense)             (None, 10)                1010      \n",
      "=================================================================\n",
      "Total params: 520,498\n",
      "Trainable params: 510,354\n",
      "Non-trainable params: 10,144\n",
      "_________________________________________________________________\n"
     ]
    }
   ],
   "source": [
    "model_batch.summary()"
   ]
  },
  {
   "cell_type": "code",
   "execution_count": 16,
   "id": "1d07cd99",
   "metadata": {
    "execution": {
     "iopub.execute_input": "2022-01-24T01:26:54.705470Z",
     "iopub.status.busy": "2022-01-24T01:26:54.704783Z",
     "iopub.status.idle": "2022-01-24T01:35:44.819390Z",
     "shell.execute_reply": "2022-01-24T01:35:44.814105Z",
     "shell.execute_reply.started": "2022-01-24T00:58:57.093851Z"
    },
    "papermill": {
     "duration": 531.822334,
     "end_time": "2022-01-24T01:35:44.819547",
     "exception": false,
     "start_time": "2022-01-24T01:26:52.997213",
     "status": "completed"
    },
    "tags": []
   },
   "outputs": [
    {
     "name": "stdout",
     "output_type": "stream",
     "text": [
      "Epoch 1/100\n",
      "352/352 [==============================] - 39s 41ms/step - loss: 2.0776 - accuracy: 0.2563 - val_loss: 1.6878 - val_accuracy: 0.4042\n",
      "Epoch 2/100\n",
      "352/352 [==============================] - 7s 20ms/step - loss: 1.7808 - accuracy: 0.3650 - val_loss: 1.6466 - val_accuracy: 0.4066\n",
      "Epoch 3/100\n",
      "352/352 [==============================] - 7s 20ms/step - loss: 1.7118 - accuracy: 0.3901 - val_loss: 1.5762 - val_accuracy: 0.4306\n",
      "Epoch 4/100\n",
      "352/352 [==============================] - 7s 20ms/step - loss: 1.6747 - accuracy: 0.4002 - val_loss: 1.5111 - val_accuracy: 0.4584\n",
      "Epoch 5/100\n",
      "352/352 [==============================] - 7s 20ms/step - loss: 1.6320 - accuracy: 0.4201 - val_loss: 1.4791 - val_accuracy: 0.4738\n",
      "Epoch 6/100\n",
      "352/352 [==============================] - 7s 20ms/step - loss: 1.6208 - accuracy: 0.4259 - val_loss: 1.4534 - val_accuracy: 0.4786\n",
      "Epoch 7/100\n",
      "352/352 [==============================] - 7s 20ms/step - loss: 1.5938 - accuracy: 0.4356 - val_loss: 1.4595 - val_accuracy: 0.4892\n",
      "Epoch 8/100\n",
      "352/352 [==============================] - 7s 20ms/step - loss: 1.5605 - accuracy: 0.4443 - val_loss: 1.4475 - val_accuracy: 0.4860\n",
      "Epoch 9/100\n",
      "352/352 [==============================] - 7s 20ms/step - loss: 1.5321 - accuracy: 0.4607 - val_loss: 1.4077 - val_accuracy: 0.5020\n",
      "Epoch 10/100\n",
      "352/352 [==============================] - 7s 20ms/step - loss: 1.5133 - accuracy: 0.4617 - val_loss: 1.4190 - val_accuracy: 0.4990\n",
      "Epoch 11/100\n",
      "352/352 [==============================] - 7s 20ms/step - loss: 1.4925 - accuracy: 0.4756 - val_loss: 1.4259 - val_accuracy: 0.4952\n",
      "Epoch 12/100\n",
      "352/352 [==============================] - 7s 20ms/step - loss: 1.4799 - accuracy: 0.4772 - val_loss: 1.4340 - val_accuracy: 0.5004\n",
      "Epoch 13/100\n",
      "352/352 [==============================] - 7s 20ms/step - loss: 1.4647 - accuracy: 0.4849 - val_loss: 1.4051 - val_accuracy: 0.5084\n",
      "Epoch 14/100\n",
      "352/352 [==============================] - 7s 20ms/step - loss: 1.4503 - accuracy: 0.4853 - val_loss: 1.4173 - val_accuracy: 0.5004\n",
      "Epoch 15/100\n",
      "352/352 [==============================] - 7s 20ms/step - loss: 1.4205 - accuracy: 0.4987 - val_loss: 1.3844 - val_accuracy: 0.5092\n",
      "Epoch 16/100\n",
      "352/352 [==============================] - 7s 20ms/step - loss: 1.4247 - accuracy: 0.4964 - val_loss: 1.3914 - val_accuracy: 0.5076\n",
      "Epoch 17/100\n",
      "352/352 [==============================] - 7s 20ms/step - loss: 1.4108 - accuracy: 0.4995 - val_loss: 1.3803 - val_accuracy: 0.5084\n",
      "Epoch 18/100\n",
      "352/352 [==============================] - 7s 20ms/step - loss: 1.3958 - accuracy: 0.5023 - val_loss: 1.3614 - val_accuracy: 0.5232\n",
      "Epoch 19/100\n",
      "352/352 [==============================] - 7s 20ms/step - loss: 1.3829 - accuracy: 0.5116 - val_loss: 1.3709 - val_accuracy: 0.5134\n",
      "Epoch 20/100\n",
      "352/352 [==============================] - 7s 20ms/step - loss: 1.3668 - accuracy: 0.5165 - val_loss: 1.3418 - val_accuracy: 0.5242\n",
      "Epoch 21/100\n",
      "352/352 [==============================] - 7s 20ms/step - loss: 1.3689 - accuracy: 0.5205 - val_loss: 1.3474 - val_accuracy: 0.5344\n",
      "Epoch 22/100\n",
      "352/352 [==============================] - 7s 20ms/step - loss: 1.3574 - accuracy: 0.5233 - val_loss: 1.3672 - val_accuracy: 0.5220\n",
      "Epoch 23/100\n",
      "352/352 [==============================] - 7s 20ms/step - loss: 1.3304 - accuracy: 0.5341 - val_loss: 1.3434 - val_accuracy: 0.5316\n",
      "Epoch 24/100\n",
      "352/352 [==============================] - 7s 20ms/step - loss: 1.3233 - accuracy: 0.5369 - val_loss: 1.3136 - val_accuracy: 0.5378\n",
      "Epoch 25/100\n",
      "352/352 [==============================] - 7s 20ms/step - loss: 1.3099 - accuracy: 0.5376 - val_loss: 1.3496 - val_accuracy: 0.5310\n",
      "Epoch 26/100\n",
      "352/352 [==============================] - 7s 20ms/step - loss: 1.3136 - accuracy: 0.5299 - val_loss: 1.3491 - val_accuracy: 0.5268\n",
      "Epoch 27/100\n",
      "352/352 [==============================] - 7s 20ms/step - loss: 1.3207 - accuracy: 0.5373 - val_loss: 1.3515 - val_accuracy: 0.5274\n",
      "Epoch 28/100\n",
      "352/352 [==============================] - 7s 20ms/step - loss: 1.2998 - accuracy: 0.5463 - val_loss: 1.3258 - val_accuracy: 0.5374\n",
      "Epoch 29/100\n",
      "352/352 [==============================] - 7s 20ms/step - loss: 1.2838 - accuracy: 0.5507 - val_loss: 1.3348 - val_accuracy: 0.5324\n",
      "Epoch 30/100\n",
      "352/352 [==============================] - 7s 20ms/step - loss: 1.2711 - accuracy: 0.5555 - val_loss: 1.3567 - val_accuracy: 0.5256\n",
      "Epoch 31/100\n",
      "352/352 [==============================] - 7s 20ms/step - loss: 1.2566 - accuracy: 0.5611 - val_loss: 1.3327 - val_accuracy: 0.5356\n",
      "Epoch 32/100\n",
      "352/352 [==============================] - 7s 20ms/step - loss: 1.2516 - accuracy: 0.5621 - val_loss: 1.3260 - val_accuracy: 0.5354\n",
      "Epoch 33/100\n",
      "352/352 [==============================] - 7s 20ms/step - loss: 1.2568 - accuracy: 0.5583 - val_loss: 1.3295 - val_accuracy: 0.5338\n",
      "Epoch 34/100\n",
      "352/352 [==============================] - 7s 20ms/step - loss: 1.2488 - accuracy: 0.5605 - val_loss: 1.3230 - val_accuracy: 0.5382\n",
      "Epoch 35/100\n",
      "352/352 [==============================] - 7s 20ms/step - loss: 1.2330 - accuracy: 0.5681 - val_loss: 1.3300 - val_accuracy: 0.5362\n",
      "Epoch 36/100\n",
      "352/352 [==============================] - 7s 20ms/step - loss: 1.2247 - accuracy: 0.5704 - val_loss: 1.3268 - val_accuracy: 0.5370\n",
      "Epoch 37/100\n",
      "352/352 [==============================] - 7s 20ms/step - loss: 1.2152 - accuracy: 0.5743 - val_loss: 1.3083 - val_accuracy: 0.5412\n",
      "Epoch 38/100\n",
      "352/352 [==============================] - 7s 20ms/step - loss: 1.2084 - accuracy: 0.5754 - val_loss: 1.3446 - val_accuracy: 0.5268\n",
      "Epoch 39/100\n",
      "352/352 [==============================] - 7s 20ms/step - loss: 1.2063 - accuracy: 0.5772 - val_loss: 1.3135 - val_accuracy: 0.5384\n",
      "Epoch 40/100\n",
      "352/352 [==============================] - 7s 20ms/step - loss: 1.2014 - accuracy: 0.5785 - val_loss: 1.3222 - val_accuracy: 0.5400\n",
      "Epoch 41/100\n",
      "352/352 [==============================] - 7s 20ms/step - loss: 1.1917 - accuracy: 0.5817 - val_loss: 1.3222 - val_accuracy: 0.5376\n",
      "Epoch 42/100\n",
      "352/352 [==============================] - 7s 20ms/step - loss: 1.1976 - accuracy: 0.5750 - val_loss: 1.3255 - val_accuracy: 0.5534\n",
      "Epoch 43/100\n",
      "352/352 [==============================] - 7s 20ms/step - loss: 1.1874 - accuracy: 0.5842 - val_loss: 1.3304 - val_accuracy: 0.5328\n",
      "Epoch 44/100\n",
      "352/352 [==============================] - 7s 20ms/step - loss: 1.1721 - accuracy: 0.5892 - val_loss: 1.3379 - val_accuracy: 0.5342\n",
      "Epoch 45/100\n",
      "352/352 [==============================] - 7s 20ms/step - loss: 1.1822 - accuracy: 0.5820 - val_loss: 1.3097 - val_accuracy: 0.5452\n",
      "Epoch 46/100\n",
      "352/352 [==============================] - 7s 20ms/step - loss: 1.1589 - accuracy: 0.5925 - val_loss: 1.3117 - val_accuracy: 0.5422\n",
      "Epoch 47/100\n",
      "352/352 [==============================] - 7s 20ms/step - loss: 1.1509 - accuracy: 0.5963 - val_loss: 1.2989 - val_accuracy: 0.5430\n",
      "Epoch 48/100\n",
      "352/352 [==============================] - 7s 20ms/step - loss: 1.1459 - accuracy: 0.5971 - val_loss: 1.3127 - val_accuracy: 0.5388\n",
      "Epoch 49/100\n",
      "352/352 [==============================] - 7s 21ms/step - loss: 1.1472 - accuracy: 0.5976 - val_loss: 1.3453 - val_accuracy: 0.5342\n",
      "Epoch 50/100\n",
      "352/352 [==============================] - 7s 20ms/step - loss: 1.1344 - accuracy: 0.6013 - val_loss: 1.3256 - val_accuracy: 0.5398\n",
      "Epoch 51/100\n",
      "352/352 [==============================] - 7s 20ms/step - loss: 1.1434 - accuracy: 0.5984 - val_loss: 1.3243 - val_accuracy: 0.5430\n",
      "Epoch 52/100\n",
      "352/352 [==============================] - 7s 20ms/step - loss: 1.1371 - accuracy: 0.6024 - val_loss: 1.3237 - val_accuracy: 0.5380\n",
      "Epoch 53/100\n",
      "352/352 [==============================] - 7s 21ms/step - loss: 1.1279 - accuracy: 0.6033 - val_loss: 1.3012 - val_accuracy: 0.5474\n",
      "Epoch 54/100\n",
      "352/352 [==============================] - 7s 20ms/step - loss: 1.1204 - accuracy: 0.6068 - val_loss: 1.3135 - val_accuracy: 0.5362\n",
      "Epoch 55/100\n",
      "352/352 [==============================] - 7s 20ms/step - loss: 1.1206 - accuracy: 0.6070 - val_loss: 1.3032 - val_accuracy: 0.5508\n",
      "Epoch 56/100\n",
      "352/352 [==============================] - 7s 20ms/step - loss: 1.1052 - accuracy: 0.6100 - val_loss: 1.3270 - val_accuracy: 0.5408\n",
      "Epoch 57/100\n",
      "352/352 [==============================] - 7s 20ms/step - loss: 1.1039 - accuracy: 0.6107 - val_loss: 1.3075 - val_accuracy: 0.5606\n",
      "Epoch 58/100\n",
      "352/352 [==============================] - 7s 20ms/step - loss: 1.1162 - accuracy: 0.6095 - val_loss: 1.3151 - val_accuracy: 0.5446\n",
      "Epoch 59/100\n",
      "352/352 [==============================] - 7s 20ms/step - loss: 1.1018 - accuracy: 0.6163 - val_loss: 1.3409 - val_accuracy: 0.5362\n",
      "Epoch 60/100\n",
      "352/352 [==============================] - 8s 22ms/step - loss: 1.0837 - accuracy: 0.6223 - val_loss: 1.3341 - val_accuracy: 0.5408\n",
      "Epoch 61/100\n",
      "352/352 [==============================] - 7s 20ms/step - loss: 1.0948 - accuracy: 0.6146 - val_loss: 1.3222 - val_accuracy: 0.5462\n",
      "Epoch 62/100\n",
      "352/352 [==============================] - 7s 20ms/step - loss: 1.0733 - accuracy: 0.6238 - val_loss: 1.3238 - val_accuracy: 0.5452\n",
      "Epoch 63/100\n",
      "352/352 [==============================] - 7s 20ms/step - loss: 1.0884 - accuracy: 0.6213 - val_loss: 1.3371 - val_accuracy: 0.5350\n",
      "Epoch 64/100\n",
      "352/352 [==============================] - 7s 20ms/step - loss: 1.0848 - accuracy: 0.6209 - val_loss: 1.3237 - val_accuracy: 0.5492\n",
      "Epoch 65/100\n",
      "352/352 [==============================] - 7s 20ms/step - loss: 1.0595 - accuracy: 0.6224 - val_loss: 1.3204 - val_accuracy: 0.5434\n",
      "Epoch 66/100\n",
      "352/352 [==============================] - 7s 20ms/step - loss: 1.0630 - accuracy: 0.6275 - val_loss: 1.3234 - val_accuracy: 0.5388\n",
      "Epoch 67/100\n",
      "352/352 [==============================] - 7s 20ms/step - loss: 1.0573 - accuracy: 0.6292 - val_loss: 1.3192 - val_accuracy: 0.5496\n"
     ]
    }
   ],
   "source": [
    "model_checkpoint = keras.callbacks.ModelCheckpoint('cifar10_model_bn.h5', save_best_only=True)\n",
    "history_batch = model_batch.fit(X_train, y_train, epochs=100, validation_data=(X_valid, y_valid), \n",
    "                                callbacks=[early_stopping, model_checkpoint],\n",
    "                                batch_size=BATCH_SIZE)"
   ]
  },
  {
   "cell_type": "code",
   "execution_count": 17,
   "id": "01c4456d",
   "metadata": {
    "execution": {
     "iopub.execute_input": "2022-01-24T01:35:52.985140Z",
     "iopub.status.busy": "2022-01-24T01:35:52.983850Z",
     "iopub.status.idle": "2022-01-24T01:35:53.001494Z",
     "shell.execute_reply": "2022-01-24T01:35:53.000888Z",
     "shell.execute_reply.started": "2022-01-24T01:05:11.579989Z"
    },
    "papermill": {
     "duration": 4.07999,
     "end_time": "2022-01-24T01:35:53.001834",
     "exception": false,
     "start_time": "2022-01-24T01:35:48.921844",
     "status": "completed"
    },
    "tags": []
   },
   "outputs": [],
   "source": [
    "def compare_lr_curves(history_1, history_1_name, history_2, history_2_name):\n",
    "    # compare the learning curves of the two models\n",
    "    fig = make_subplots(rows=1, cols=2)\n",
    "    fig.add_trace(go.Scatter(x=history_1.epoch, y=history_1.history['loss'], name=history_1_name+\" Training Loss\"), row=1, col=1)\n",
    "    fig.add_trace(go.Scatter(x=history_1.epoch, y=history_1.history['val_loss'], name=history_1_name+\" Validation Loss\"), row=1, col=1)\n",
    "    fig.add_trace(go.Scatter(x=history_1.epoch, y=history_1.history['accuracy'], name=history_1_name+\" Training Accuracy\"), row=1, col=2)\n",
    "    fig.add_trace(go.Scatter(x=history_1.epoch, y=history_1.history['val_accuracy'], name=history_1_name+\" Validation Accuracy\"), row=1, col=2)\n",
    "    fig.add_trace(go.Scatter(x=history_2.epoch, y=history_2.history['loss'], name=history_2_name+\" Training Loss\"), row=1, col=1)\n",
    "    fig.add_trace(go.Scatter(x=history_2.epoch, y=history_2.history['val_loss'], name=history_2_name+\" Validation Loss\"), row=1, col=1)\n",
    "    fig.add_trace(go.Scatter(x=history_2.epoch, y=history_2.history['accuracy'], name=history_2_name+\" Training Accuracy\"), row=1, col=2)\n",
    "    fig.add_trace(go.Scatter(x=history_2.epoch, y=history_2.history['val_accuracy'], name=history_2_name+\" Validation Accuracy\"), row=1, col=2)\n",
    "    \n",
    "    ## update color of traces\n",
    "    fig.data[0].update(marker_color='#ff0000')\n",
    "    fig.data[1].update(marker_color='#800000')\n",
    "    fig.data[2].update(marker_color='#ff0000')\n",
    "    fig.data[3].update(marker_color='#800000')\n",
    "    fig.data[4].update(marker_color='#4da6ff')\n",
    "    fig.data[5].update(marker_color='#0059b3')\n",
    "    fig.data[6].update(marker_color='#4da6ff')\n",
    "    fig.data[7].update(marker_color='#0059b3')\n",
    "    \n",
    "    # update layout\n",
    "    fig.update_layout(height=600, width=1000, template='plotly_white')\n",
    "    return fig\n",
    "    "
   ]
  },
  {
   "cell_type": "code",
   "execution_count": 18,
   "id": "c53f90fb",
   "metadata": {
    "execution": {
     "iopub.execute_input": "2022-01-24T01:36:01.196519Z",
     "iopub.status.busy": "2022-01-24T01:36:01.195813Z",
     "iopub.status.idle": "2022-01-24T01:36:02.047667Z",
     "shell.execute_reply": "2022-01-24T01:36:02.048190Z",
     "shell.execute_reply.started": "2022-01-24T01:05:11.606085Z"
    },
    "papermill": {
     "duration": 4.958035,
     "end_time": "2022-01-24T01:36:02.048370",
     "exception": false,
     "start_time": "2022-01-24T01:35:57.090335",
     "status": "completed"
    },
    "tags": []
   },
   "outputs": [
    {
     "data": {
      "text/html": [
       "<div>                            <div id=\"71d1d6dd-2697-4981-abc2-25b350ee9e0b\" class=\"plotly-graph-div\" style=\"height:600px; width:1000px;\"></div>            <script type=\"text/javascript\">                require([\"plotly\"], function(Plotly) {                    window.PLOTLYENV=window.PLOTLYENV || {};                                    if (document.getElementById(\"71d1d6dd-2697-4981-abc2-25b350ee9e0b\")) {                    Plotly.newPlot(                        \"71d1d6dd-2697-4981-abc2-25b350ee9e0b\",                        [{\"marker\":{\"color\":\"#ff0000\"},\"name\":\"Batch Normalization Training Loss\",\"type\":\"scatter\",\"x\":[0,1,2,3,4,5,6,7,8,9,10,11,12,13,14,15,16,17,18,19,20,21,22,23,24,25,26,27,28,29,30,31,32,33,34,35,36,37,38,39,40,41,42,43,44,45,46,47,48,49,50,51,52,53,54,55,56,57,58,59,60,61,62,63,64,65,66],\"xaxis\":\"x\",\"y\":[1.936764121055603,1.769321084022522,1.714020013809204,1.6695241928100586,1.6347225904464722,1.6095420122146606,1.581154704093933,1.5577688217163086,1.5395036935806274,1.5200649499893188,1.4928622245788574,1.4788854122161865,1.4645309448242188,1.44692862033844,1.4368445873260498,1.423079490661621,1.414595365524292,1.3965765237808228,1.3912488222122192,1.374752402305603,1.3696702718734741,1.3572134971618652,1.3399854898452759,1.3380683660507202,1.325738549232483,1.3150091171264648,1.3092231750488281,1.2982860803604126,1.2866008281707764,1.2792280912399292,1.2714433670043945,1.261092185974121,1.2605221271514893,1.251524567604065,1.2432290315628052,1.2370976209640503,1.223035454750061,1.2232223749160767,1.2114359140396118,1.2109514474868774,1.1957950592041016,1.2002938985824585,1.1899292469024658,1.1860992908477783,1.1825469732284546,1.1699203252792358,1.1670947074890137,1.1553341150283813,1.1570649147033691,1.14866304397583,1.1455029249191284,1.1378635168075562,1.1379836797714233,1.1288652420043945,1.1265509128570557,1.1195695400238037,1.114951491355896,1.1183089017868042,1.1064389944076538,1.099612832069397,1.1010268926620483,1.0912690162658691,1.0939849615097046,1.0861306190490723,1.0759931802749634,1.0757761001586914,1.0696485042572021],\"yaxis\":\"y\"},{\"marker\":{\"color\":\"#800000\"},\"name\":\"Batch Normalization Validation Loss\",\"type\":\"scatter\",\"x\":[0,1,2,3,4,5,6,7,8,9,10,11,12,13,14,15,16,17,18,19,20,21,22,23,24,25,26,27,28,29,30,31,32,33,34,35,36,37,38,39,40,41,42,43,44,45,46,47,48,49,50,51,52,53,54,55,56,57,58,59,60,61,62,63,64,65,66],\"xaxis\":\"x\",\"y\":[1.687843680381775,1.646591305732727,1.5762232542037964,1.511103630065918,1.4791452884674072,1.4534010887145996,1.4595211744308472,1.4474867582321167,1.4076522588729858,1.4189881086349487,1.425942301750183,1.4340468645095825,1.405086636543274,1.4172801971435547,1.384418249130249,1.3913935422897339,1.38034987449646,1.3613861799240112,1.3708792924880981,1.341761827468872,1.3474165201187134,1.3671971559524536,1.3434243202209473,1.3136343955993652,1.3495651483535767,1.3491322994232178,1.3515369892120361,1.3257920742034912,1.3348324298858643,1.356698751449585,1.3327232599258423,1.3260488510131836,1.329464077949524,1.3229873180389404,1.3300318717956543,1.3268193006515503,1.3083198070526123,1.3446118831634521,1.313478946685791,1.3221663236618042,1.3221521377563477,1.3255279064178467,1.3303742408752441,1.3379247188568115,1.309654712677002,1.311742901802063,1.298919439315796,1.312701940536499,1.3453179597854614,1.3255990743637085,1.3243248462677002,1.3236600160598755,1.3011717796325684,1.3134989738464355,1.303179144859314,1.3270225524902344,1.307501196861267,1.3150736093521118,1.340916395187378,1.334128975868225,1.3221970796585083,1.3238272666931152,1.3370827436447144,1.323679804801941,1.3204442262649536,1.323353886604309,1.3192212581634521],\"yaxis\":\"y\"},{\"marker\":{\"color\":\"#ff0000\"},\"name\":\"Batch Normalization Training Accuracy\",\"type\":\"scatter\",\"x\":[0,1,2,3,4,5,6,7,8,9,10,11,12,13,14,15,16,17,18,19,20,21,22,23,24,25,26,27,28,29,30,31,32,33,34,35,36,37,38,39,40,41,42,43,44,45,46,47,48,49,50,51,52,53,54,55,56,57,58,59,60,61,62,63,64,65,66],\"xaxis\":\"x2\",\"y\":[0.30168887972831726,0.3690222203731537,0.38706666231155396,0.406333327293396,0.41966667771339417,0.4309333264827728,0.4399777948856354,0.44575557112693787,0.4564000070095062,0.461177796125412,0.4752666652202606,0.4804888963699341,0.48444443941116333,0.4892444610595703,0.4918000102043152,0.4975777864456177,0.4996444582939148,0.505911111831665,0.5087110996246338,0.5144666433334351,0.5162222385406494,0.52311110496521,0.5311999917030334,0.5291333198547363,0.5315777659416199,0.5325778126716614,0.5376889109611511,0.5439777970314026,0.5486222505569458,0.5506666898727417,0.5555999875068665,0.5593777894973755,0.5579110980033875,0.561044454574585,0.562511146068573,0.5661777853965759,0.5709111094474792,0.5726222395896912,0.5750222206115723,0.5755333304405212,0.5800222158432007,0.5746889114379883,0.5836666822433472,0.5856888890266418,0.5832444429397583,0.5901333689689636,0.5920888781547546,0.5947999954223633,0.5936222076416016,0.5959555506706238,0.5983333587646484,0.600600004196167,0.6007333397865295,0.6060000061988831,0.6064222455024719,0.6064222455024719,0.6082888841629028,0.6099777817726135,0.6137333512306213,0.617888867855072,0.6143555641174316,0.6169778108596802,0.6182000041007996,0.6205778121948242,0.6196444630622864,0.6227111220359802,0.6250222325325012],\"yaxis\":\"y2\"},{\"marker\":{\"color\":\"#800000\"},\"name\":\"Batch Normalization Validation Accuracy\",\"type\":\"scatter\",\"x\":[0,1,2,3,4,5,6,7,8,9,10,11,12,13,14,15,16,17,18,19,20,21,22,23,24,25,26,27,28,29,30,31,32,33,34,35,36,37,38,39,40,41,42,43,44,45,46,47,48,49,50,51,52,53,54,55,56,57,58,59,60,61,62,63,64,65,66],\"xaxis\":\"x2\",\"y\":[0.4041999876499176,0.4065999984741211,0.43059998750686646,0.4583999812602997,0.4737999737262726,0.47859999537467957,0.48919999599456787,0.4860000014305115,0.5019999742507935,0.4989999830722809,0.495199978351593,0.5004000067710876,0.5083999633789062,0.5004000067710876,0.5091999769210815,0.5076000094413757,0.5083999633789062,0.5231999754905701,0.5133999586105347,0.5241999626159668,0.5343999862670898,0.5220000147819519,0.5315999984741211,0.5378000140190125,0.5309999585151672,0.5267999768257141,0.5273999571800232,0.5374000072479248,0.5324000120162964,0.525600016117096,0.5356000065803528,0.5353999733924866,0.5338000059127808,0.5381999611854553,0.5361999869346619,0.5370000004768372,0.5411999821662903,0.5267999768257141,0.5383999943733215,0.5399999618530273,0.5375999808311462,0.5533999800682068,0.5327999591827393,0.5342000126838684,0.545199990272522,0.542199969291687,0.5429999828338623,0.5388000011444092,0.5342000126838684,0.5397999882698059,0.5429999828338623,0.5379999876022339,0.5473999977111816,0.5361999869346619,0.5507999658584595,0.5407999753952026,0.5605999827384949,0.5446000099182129,0.5361999869346619,0.5407999753952026,0.5461999773979187,0.545199990272522,0.5349999666213989,0.5491999983787537,0.54339998960495,0.5388000011444092,0.5496000051498413],\"yaxis\":\"y2\"},{\"marker\":{\"color\":\"#4da6ff\"},\"name\":\"No Batch Normalization Training Loss\",\"type\":\"scatter\",\"x\":[0,1,2,3,4,5,6,7,8,9,10,11,12,13,14,15,16,17,18,19,20,21,22,23,24,25,26,27,28,29,30,31,32,33,34,35,36,37,38,39,40,41,42,43,44,45,46,47,48,49,50,51,52,53,54,55,56,57,58],\"xaxis\":\"x\",\"y\":[5.353203773498535,1.9902913570404053,1.9177454710006714,1.8679522275924683,1.8210676908493042,1.7865443229675293,1.7591785192489624,1.7383158206939697,1.7168878316879272,1.6940577030181885,1.6771187782287598,1.6624562740325928,1.650217056274414,1.6282484531402588,1.613437533378601,1.603782296180725,1.5896625518798828,1.5777426958084106,1.5702431201934814,1.566028356552124,1.5443116426467896,1.5299838781356812,1.5268096923828125,1.5192044973373413,1.5082918405532837,1.4983949661254883,1.4903626441955566,1.4824891090393066,1.4701869487762451,1.4665508270263672,1.4529461860656738,1.4476333856582642,1.4381471872329712,1.4322642087936401,1.4231036901474,1.4120134115219116,1.4033924341201782,1.3968263864517212,1.3914929628372192,1.383323073387146,1.3731175661087036,1.372157335281372,1.3609777688980103,1.3484302759170532,1.3457196950912476,1.3351987600326538,1.3303197622299194,2.0981101989746094,2.1052966117858887,1.9746088981628418,1.8972299098968506,1.8632287979125977,1.834811806678772,1.8073574304580688,1.7844295501708984,1.7662012577056885,1.7446823120117188,1.7303078174591064,1.71232271194458],\"yaxis\":\"y\"},{\"marker\":{\"color\":\"#0059b3\"},\"name\":\"No Batch Normalization Validation Loss\",\"type\":\"scatter\",\"x\":[0,1,2,3,4,5,6,7,8,9,10,11,12,13,14,15,16,17,18,19,20,21,22,23,24,25,26,27,28,29,30,31,32,33,34,35,36,37,38,39,40,41,42,43,44,45,46,47,48,49,50,51,52,53,54,55,56,57,58],\"xaxis\":\"x\",\"y\":[2.0135457515716553,2.0057456493377686,2.073269844055176,1.9751873016357422,1.7782444953918457,1.7375562191009521,1.7471985816955566,1.8879204988479614,1.9001845121383667,1.790076494216919,1.6502162218093872,1.7366745471954346,1.6545438766479492,1.6452142000198364,1.6827445030212402,1.7136059999465942,1.660689353942871,1.6156197786331177,1.6221541166305542,1.6016409397125244,1.6745682954788208,1.6178169250488281,1.660721778869629,1.632619857788086,1.5794978141784668,1.5544254779815674,1.5750404596328735,1.5774834156036377,1.5958296060562134,1.5894114971160889,1.5714538097381592,1.561098575592041,1.5257370471954346,1.5298595428466797,1.5325927734375,1.5431733131408691,1.545348882675171,1.5553268194198608,1.5196459293365479,1.5545098781585693,1.5640324354171753,1.5678672790527344,1.5696210861206055,1.5540324449539185,1.5612047910690308,1.5563961267471313,1.5492311716079712,2.190631151199341,2.040388584136963,1.9363439083099365,1.9145762920379639,1.8432233333587646,1.844807744026184,1.8411520719528198,1.7965483665466309,1.797345519065857,1.7825857400894165,1.7661042213439941,1.7224315404891968],\"yaxis\":\"y\"},{\"marker\":{\"color\":\"#4da6ff\"},\"name\":\"No Batch Normalization Training Accuracy\",\"type\":\"scatter\",\"x\":[0,1,2,3,4,5,6,7,8,9,10,11,12,13,14,15,16,17,18,19,20,21,22,23,24,25,26,27,28,29,30,31,32,33,34,35,36,37,38,39,40,41,42,43,44,45,46,47,48,49,50,51,52,53,54,55,56,57,58],\"xaxis\":\"x2\",\"y\":[0.19544444978237152,0.26928889751434326,0.3010222315788269,0.32126668095588684,0.34040001034736633,0.3520444631576538,0.36535555124282837,0.37353333830833435,0.3810666799545288,0.3909333348274231,0.3961777687072754,0.4011777937412262,0.40637779235839844,0.4146222174167633,0.42166668176651,0.42551112174987793,0.43168890476226807,0.43684443831443787,0.4388444423675537,0.44137778878211975,0.446577787399292,0.4529777765274048,0.4547777771949768,0.4599111080169678,0.4635777771472931,0.46648889780044556,0.47040000557899475,0.4731111228466034,0.47760000824928284,0.478977769613266,0.4841555655002594,0.48537778854370117,0.4873333275318146,0.4894888997077942,0.4939555525779724,0.49746668338775635,0.4999111294746399,0.5057333111763,0.505311131477356,0.5089333653450012,0.511555552482605,0.5138000249862671,0.5198888778686523,0.521755576133728,0.5226444602012634,0.5255333185195923,0.5269333124160767,0.2176888883113861,0.2047777771949768,0.2640444338321686,0.28591111302375793,0.2976444363594055,0.3131111264228821,0.32635554671287537,0.33677777647972107,0.34948888421058655,0.36186668276786804,0.369133323431015,0.3763555586338043],\"yaxis\":\"y2\"},{\"marker\":{\"color\":\"#0059b3\"},\"name\":\"No Batch Normalization Validation Accuracy\",\"type\":\"scatter\",\"x\":[0,1,2,3,4,5,6,7,8,9,10,11,12,13,14,15,16,17,18,19,20,21,22,23,24,25,26,27,28,29,30,31,32,33,34,35,36,37,38,39,40,41,42,43,44,45,46,47,48,49,50,51,52,53,54,55,56,57,58],\"xaxis\":\"x2\",\"y\":[0.26980000734329224,0.25540000200271606,0.2701999843120575,0.2818000018596649,0.3540000021457672,0.3675999939441681,0.370199978351593,0.3173999786376953,0.31200000643730164,0.36139997839927673,0.4068000018596649,0.37599998712539673,0.40299999713897705,0.40799999237060547,0.39239999651908875,0.384799987077713,0.4039999842643738,0.4187999963760376,0.4301999807357788,0.43619999289512634,0.4123999774456024,0.4269999861717224,0.4083999991416931,0.41259998083114624,0.4439999759197235,0.45260000228881836,0.44259998202323914,0.4447999894618988,0.42899999022483826,0.4415999948978424,0.44099998474121094,0.45899999141693115,0.46299999952316284,0.45239999890327454,0.459199994802475,0.45819997787475586,0.4583999812602997,0.4675999879837036,0.4699999988079071,0.4477999806404114,0.45399999618530273,0.45239999890327454,0.4490000009536743,0.4503999948501587,0.46399998664855957,0.4567999839782715,0.4635999798774719,0.1664000004529953,0.23240000009536743,0.2791999876499176,0.29260000586509705,0.306799978017807,0.31139999628067017,0.3093999922275543,0.3317999839782715,0.32259997725486755,0.3569999933242798,0.35740000009536743,0.3765999972820282],\"yaxis\":\"y2\"}],                        {\"height\":600,\"template\":{\"data\":{\"bar\":[{\"error_x\":{\"color\":\"#2a3f5f\"},\"error_y\":{\"color\":\"#2a3f5f\"},\"marker\":{\"line\":{\"color\":\"white\",\"width\":0.5},\"pattern\":{\"fillmode\":\"overlay\",\"size\":10,\"solidity\":0.2}},\"type\":\"bar\"}],\"barpolar\":[{\"marker\":{\"line\":{\"color\":\"white\",\"width\":0.5},\"pattern\":{\"fillmode\":\"overlay\",\"size\":10,\"solidity\":0.2}},\"type\":\"barpolar\"}],\"carpet\":[{\"aaxis\":{\"endlinecolor\":\"#2a3f5f\",\"gridcolor\":\"#C8D4E3\",\"linecolor\":\"#C8D4E3\",\"minorgridcolor\":\"#C8D4E3\",\"startlinecolor\":\"#2a3f5f\"},\"baxis\":{\"endlinecolor\":\"#2a3f5f\",\"gridcolor\":\"#C8D4E3\",\"linecolor\":\"#C8D4E3\",\"minorgridcolor\":\"#C8D4E3\",\"startlinecolor\":\"#2a3f5f\"},\"type\":\"carpet\"}],\"choropleth\":[{\"colorbar\":{\"outlinewidth\":0,\"ticks\":\"\"},\"type\":\"choropleth\"}],\"contour\":[{\"colorbar\":{\"outlinewidth\":0,\"ticks\":\"\"},\"colorscale\":[[0.0,\"#0d0887\"],[0.1111111111111111,\"#46039f\"],[0.2222222222222222,\"#7201a8\"],[0.3333333333333333,\"#9c179e\"],[0.4444444444444444,\"#bd3786\"],[0.5555555555555556,\"#d8576b\"],[0.6666666666666666,\"#ed7953\"],[0.7777777777777778,\"#fb9f3a\"],[0.8888888888888888,\"#fdca26\"],[1.0,\"#f0f921\"]],\"type\":\"contour\"}],\"contourcarpet\":[{\"colorbar\":{\"outlinewidth\":0,\"ticks\":\"\"},\"type\":\"contourcarpet\"}],\"heatmap\":[{\"colorbar\":{\"outlinewidth\":0,\"ticks\":\"\"},\"colorscale\":[[0.0,\"#0d0887\"],[0.1111111111111111,\"#46039f\"],[0.2222222222222222,\"#7201a8\"],[0.3333333333333333,\"#9c179e\"],[0.4444444444444444,\"#bd3786\"],[0.5555555555555556,\"#d8576b\"],[0.6666666666666666,\"#ed7953\"],[0.7777777777777778,\"#fb9f3a\"],[0.8888888888888888,\"#fdca26\"],[1.0,\"#f0f921\"]],\"type\":\"heatmap\"}],\"heatmapgl\":[{\"colorbar\":{\"outlinewidth\":0,\"ticks\":\"\"},\"colorscale\":[[0.0,\"#0d0887\"],[0.1111111111111111,\"#46039f\"],[0.2222222222222222,\"#7201a8\"],[0.3333333333333333,\"#9c179e\"],[0.4444444444444444,\"#bd3786\"],[0.5555555555555556,\"#d8576b\"],[0.6666666666666666,\"#ed7953\"],[0.7777777777777778,\"#fb9f3a\"],[0.8888888888888888,\"#fdca26\"],[1.0,\"#f0f921\"]],\"type\":\"heatmapgl\"}],\"histogram\":[{\"marker\":{\"pattern\":{\"fillmode\":\"overlay\",\"size\":10,\"solidity\":0.2}},\"type\":\"histogram\"}],\"histogram2d\":[{\"colorbar\":{\"outlinewidth\":0,\"ticks\":\"\"},\"colorscale\":[[0.0,\"#0d0887\"],[0.1111111111111111,\"#46039f\"],[0.2222222222222222,\"#7201a8\"],[0.3333333333333333,\"#9c179e\"],[0.4444444444444444,\"#bd3786\"],[0.5555555555555556,\"#d8576b\"],[0.6666666666666666,\"#ed7953\"],[0.7777777777777778,\"#fb9f3a\"],[0.8888888888888888,\"#fdca26\"],[1.0,\"#f0f921\"]],\"type\":\"histogram2d\"}],\"histogram2dcontour\":[{\"colorbar\":{\"outlinewidth\":0,\"ticks\":\"\"},\"colorscale\":[[0.0,\"#0d0887\"],[0.1111111111111111,\"#46039f\"],[0.2222222222222222,\"#7201a8\"],[0.3333333333333333,\"#9c179e\"],[0.4444444444444444,\"#bd3786\"],[0.5555555555555556,\"#d8576b\"],[0.6666666666666666,\"#ed7953\"],[0.7777777777777778,\"#fb9f3a\"],[0.8888888888888888,\"#fdca26\"],[1.0,\"#f0f921\"]],\"type\":\"histogram2dcontour\"}],\"mesh3d\":[{\"colorbar\":{\"outlinewidth\":0,\"ticks\":\"\"},\"type\":\"mesh3d\"}],\"parcoords\":[{\"line\":{\"colorbar\":{\"outlinewidth\":0,\"ticks\":\"\"}},\"type\":\"parcoords\"}],\"pie\":[{\"automargin\":true,\"type\":\"pie\"}],\"scatter\":[{\"marker\":{\"colorbar\":{\"outlinewidth\":0,\"ticks\":\"\"}},\"type\":\"scatter\"}],\"scatter3d\":[{\"line\":{\"colorbar\":{\"outlinewidth\":0,\"ticks\":\"\"}},\"marker\":{\"colorbar\":{\"outlinewidth\":0,\"ticks\":\"\"}},\"type\":\"scatter3d\"}],\"scattercarpet\":[{\"marker\":{\"colorbar\":{\"outlinewidth\":0,\"ticks\":\"\"}},\"type\":\"scattercarpet\"}],\"scattergeo\":[{\"marker\":{\"colorbar\":{\"outlinewidth\":0,\"ticks\":\"\"}},\"type\":\"scattergeo\"}],\"scattergl\":[{\"marker\":{\"colorbar\":{\"outlinewidth\":0,\"ticks\":\"\"}},\"type\":\"scattergl\"}],\"scattermapbox\":[{\"marker\":{\"colorbar\":{\"outlinewidth\":0,\"ticks\":\"\"}},\"type\":\"scattermapbox\"}],\"scatterpolar\":[{\"marker\":{\"colorbar\":{\"outlinewidth\":0,\"ticks\":\"\"}},\"type\":\"scatterpolar\"}],\"scatterpolargl\":[{\"marker\":{\"colorbar\":{\"outlinewidth\":0,\"ticks\":\"\"}},\"type\":\"scatterpolargl\"}],\"scatterternary\":[{\"marker\":{\"colorbar\":{\"outlinewidth\":0,\"ticks\":\"\"}},\"type\":\"scatterternary\"}],\"surface\":[{\"colorbar\":{\"outlinewidth\":0,\"ticks\":\"\"},\"colorscale\":[[0.0,\"#0d0887\"],[0.1111111111111111,\"#46039f\"],[0.2222222222222222,\"#7201a8\"],[0.3333333333333333,\"#9c179e\"],[0.4444444444444444,\"#bd3786\"],[0.5555555555555556,\"#d8576b\"],[0.6666666666666666,\"#ed7953\"],[0.7777777777777778,\"#fb9f3a\"],[0.8888888888888888,\"#fdca26\"],[1.0,\"#f0f921\"]],\"type\":\"surface\"}],\"table\":[{\"cells\":{\"fill\":{\"color\":\"#EBF0F8\"},\"line\":{\"color\":\"white\"}},\"header\":{\"fill\":{\"color\":\"#C8D4E3\"},\"line\":{\"color\":\"white\"}},\"type\":\"table\"}]},\"layout\":{\"annotationdefaults\":{\"arrowcolor\":\"#2a3f5f\",\"arrowhead\":0,\"arrowwidth\":1},\"autotypenumbers\":\"strict\",\"coloraxis\":{\"colorbar\":{\"outlinewidth\":0,\"ticks\":\"\"}},\"colorscale\":{\"diverging\":[[0,\"#8e0152\"],[0.1,\"#c51b7d\"],[0.2,\"#de77ae\"],[0.3,\"#f1b6da\"],[0.4,\"#fde0ef\"],[0.5,\"#f7f7f7\"],[0.6,\"#e6f5d0\"],[0.7,\"#b8e186\"],[0.8,\"#7fbc41\"],[0.9,\"#4d9221\"],[1,\"#276419\"]],\"sequential\":[[0.0,\"#0d0887\"],[0.1111111111111111,\"#46039f\"],[0.2222222222222222,\"#7201a8\"],[0.3333333333333333,\"#9c179e\"],[0.4444444444444444,\"#bd3786\"],[0.5555555555555556,\"#d8576b\"],[0.6666666666666666,\"#ed7953\"],[0.7777777777777778,\"#fb9f3a\"],[0.8888888888888888,\"#fdca26\"],[1.0,\"#f0f921\"]],\"sequentialminus\":[[0.0,\"#0d0887\"],[0.1111111111111111,\"#46039f\"],[0.2222222222222222,\"#7201a8\"],[0.3333333333333333,\"#9c179e\"],[0.4444444444444444,\"#bd3786\"],[0.5555555555555556,\"#d8576b\"],[0.6666666666666666,\"#ed7953\"],[0.7777777777777778,\"#fb9f3a\"],[0.8888888888888888,\"#fdca26\"],[1.0,\"#f0f921\"]]},\"colorway\":[\"#636efa\",\"#EF553B\",\"#00cc96\",\"#ab63fa\",\"#FFA15A\",\"#19d3f3\",\"#FF6692\",\"#B6E880\",\"#FF97FF\",\"#FECB52\"],\"font\":{\"color\":\"#2a3f5f\"},\"geo\":{\"bgcolor\":\"white\",\"lakecolor\":\"white\",\"landcolor\":\"white\",\"showlakes\":true,\"showland\":true,\"subunitcolor\":\"#C8D4E3\"},\"hoverlabel\":{\"align\":\"left\"},\"hovermode\":\"closest\",\"mapbox\":{\"style\":\"light\"},\"paper_bgcolor\":\"white\",\"plot_bgcolor\":\"white\",\"polar\":{\"angularaxis\":{\"gridcolor\":\"#EBF0F8\",\"linecolor\":\"#EBF0F8\",\"ticks\":\"\"},\"bgcolor\":\"white\",\"radialaxis\":{\"gridcolor\":\"#EBF0F8\",\"linecolor\":\"#EBF0F8\",\"ticks\":\"\"}},\"scene\":{\"xaxis\":{\"backgroundcolor\":\"white\",\"gridcolor\":\"#DFE8F3\",\"gridwidth\":2,\"linecolor\":\"#EBF0F8\",\"showbackground\":true,\"ticks\":\"\",\"zerolinecolor\":\"#EBF0F8\"},\"yaxis\":{\"backgroundcolor\":\"white\",\"gridcolor\":\"#DFE8F3\",\"gridwidth\":2,\"linecolor\":\"#EBF0F8\",\"showbackground\":true,\"ticks\":\"\",\"zerolinecolor\":\"#EBF0F8\"},\"zaxis\":{\"backgroundcolor\":\"white\",\"gridcolor\":\"#DFE8F3\",\"gridwidth\":2,\"linecolor\":\"#EBF0F8\",\"showbackground\":true,\"ticks\":\"\",\"zerolinecolor\":\"#EBF0F8\"}},\"shapedefaults\":{\"line\":{\"color\":\"#2a3f5f\"}},\"ternary\":{\"aaxis\":{\"gridcolor\":\"#DFE8F3\",\"linecolor\":\"#A2B1C6\",\"ticks\":\"\"},\"baxis\":{\"gridcolor\":\"#DFE8F3\",\"linecolor\":\"#A2B1C6\",\"ticks\":\"\"},\"bgcolor\":\"white\",\"caxis\":{\"gridcolor\":\"#DFE8F3\",\"linecolor\":\"#A2B1C6\",\"ticks\":\"\"}},\"title\":{\"x\":0.05},\"xaxis\":{\"automargin\":true,\"gridcolor\":\"#EBF0F8\",\"linecolor\":\"#EBF0F8\",\"ticks\":\"\",\"title\":{\"standoff\":15},\"zerolinecolor\":\"#EBF0F8\",\"zerolinewidth\":2},\"yaxis\":{\"automargin\":true,\"gridcolor\":\"#EBF0F8\",\"linecolor\":\"#EBF0F8\",\"ticks\":\"\",\"title\":{\"standoff\":15},\"zerolinecolor\":\"#EBF0F8\",\"zerolinewidth\":2}}},\"width\":1000,\"xaxis\":{\"anchor\":\"y\",\"domain\":[0.0,0.45]},\"xaxis2\":{\"anchor\":\"y2\",\"domain\":[0.55,1.0]},\"yaxis\":{\"anchor\":\"x\",\"domain\":[0.0,1.0]},\"yaxis2\":{\"anchor\":\"x2\",\"domain\":[0.0,1.0]}},                        {\"responsive\": true}                    ).then(function(){\n",
       "                            \n",
       "var gd = document.getElementById('71d1d6dd-2697-4981-abc2-25b350ee9e0b');\n",
       "var x = new MutationObserver(function (mutations, observer) {{\n",
       "        var display = window.getComputedStyle(gd).display;\n",
       "        if (!display || display === 'none') {{\n",
       "            console.log([gd, 'removed!']);\n",
       "            Plotly.purge(gd);\n",
       "            observer.disconnect();\n",
       "        }}\n",
       "}});\n",
       "\n",
       "// Listen for the removal of the full notebook cells\n",
       "var notebookContainer = gd.closest('#notebook-container');\n",
       "if (notebookContainer) {{\n",
       "    x.observe(notebookContainer, {childList: true});\n",
       "}}\n",
       "\n",
       "// Listen for the clearing of the current output cell\n",
       "var outputEl = gd.closest('.output');\n",
       "if (outputEl) {{\n",
       "    x.observe(outputEl, {childList: true});\n",
       "}}\n",
       "\n",
       "                        })                };                });            </script>        </div>"
      ]
     },
     "metadata": {},
     "output_type": "display_data"
    }
   ],
   "source": [
    "fig = compare_lr_curves(history_batch, \"Batch Normalization\", history, \"No Batch Normalization\")\n",
    "fig.show()"
   ]
  },
  {
   "cell_type": "markdown",
   "id": "b1296be6",
   "metadata": {
    "papermill": {
     "duration": 4.083979,
     "end_time": "2022-01-24T01:36:10.253870",
     "exception": false,
     "start_time": "2022-01-24T01:36:06.169891",
     "status": "completed"
    },
    "tags": []
   },
   "source": [
    "We can see a huge improvement in both accuracy and loss! With a huge stack of Dense layers (20), probably the gradients of some hidden layers were vanishing or exploding. That's why we had some inconstant training in the first model and a big improvement with Batch Normalization."
   ]
  },
  {
   "cell_type": "markdown",
   "id": "c57b1e79",
   "metadata": {
    "papermill": {
     "duration": 4.084059,
     "end_time": "2022-01-24T01:36:18.415255",
     "exception": false,
     "start_time": "2022-01-24T01:36:14.331196",
     "status": "completed"
    },
    "tags": []
   },
   "source": [
    "## d)\n",
    "Replace Batch Normalization with SELU, and make the necessary adjustments to ensure the network self-normalizes"
   ]
  },
  {
   "cell_type": "code",
   "execution_count": 19,
   "id": "f8f69536",
   "metadata": {
    "execution": {
     "iopub.execute_input": "2022-01-24T01:36:26.607325Z",
     "iopub.status.busy": "2022-01-24T01:36:26.606600Z",
     "iopub.status.idle": "2022-01-24T01:36:26.612067Z",
     "shell.execute_reply": "2022-01-24T01:36:26.611547Z",
     "shell.execute_reply.started": "2022-01-24T01:05:12.425159Z"
    },
    "papermill": {
     "duration": 4.07166,
     "end_time": "2022-01-24T01:36:26.612229",
     "exception": false,
     "start_time": "2022-01-24T01:36:22.540569",
     "status": "completed"
    },
    "tags": []
   },
   "outputs": [],
   "source": [
    "tf.keras.backend.clear_session()\n",
    "np.random.seed(42)"
   ]
  },
  {
   "cell_type": "code",
   "execution_count": 20,
   "id": "b032ff08",
   "metadata": {
    "execution": {
     "iopub.execute_input": "2022-01-24T01:36:34.748485Z",
     "iopub.status.busy": "2022-01-24T01:36:34.747362Z",
     "iopub.status.idle": "2022-01-24T01:36:34.751240Z",
     "shell.execute_reply": "2022-01-24T01:36:34.752002Z",
     "shell.execute_reply.started": "2022-01-24T01:05:12.433151Z"
    },
    "papermill": {
     "duration": 4.040909,
     "end_time": "2022-01-24T01:36:34.752281",
     "exception": false,
     "start_time": "2022-01-24T01:36:30.711372",
     "status": "completed"
    },
    "tags": []
   },
   "outputs": [
    {
     "data": {
      "text/plain": [
       "(45000, 32, 32, 3)"
      ]
     },
     "execution_count": 20,
     "metadata": {},
     "output_type": "execute_result"
    }
   ],
   "source": [
    "X_train.shape"
   ]
  },
  {
   "cell_type": "code",
   "execution_count": 21,
   "id": "9c2a66fb",
   "metadata": {
    "execution": {
     "iopub.execute_input": "2022-01-24T01:36:43.135851Z",
     "iopub.status.busy": "2022-01-24T01:36:43.132997Z",
     "iopub.status.idle": "2022-01-24T01:36:45.256376Z",
     "shell.execute_reply": "2022-01-24T01:36:45.255763Z",
     "shell.execute_reply.started": "2022-01-24T01:05:12.449508Z"
    },
    "papermill": {
     "duration": 6.313035,
     "end_time": "2022-01-24T01:36:45.256537",
     "exception": false,
     "start_time": "2022-01-24T01:36:38.943502",
     "status": "completed"
    },
    "tags": []
   },
   "outputs": [],
   "source": [
    "# standardize the data\n",
    "X_means = X_train.mean(axis=0)\n",
    "X_stds = X_train.std(axis=0)\n",
    "X_train_scaled = (X_train - X_means) / X_stds\n",
    "X_valid_scaled = (X_valid - X_means) / X_stds\n",
    "X_test_scaled = (X_test - X_means) / X_stds"
   ]
  },
  {
   "cell_type": "code",
   "execution_count": 22,
   "id": "b48eac78",
   "metadata": {
    "execution": {
     "iopub.execute_input": "2022-01-24T01:36:53.465664Z",
     "iopub.status.busy": "2022-01-24T01:36:53.464962Z",
     "iopub.status.idle": "2022-01-24T01:36:54.152928Z",
     "shell.execute_reply": "2022-01-24T01:36:54.152229Z",
     "shell.execute_reply.started": "2022-01-24T01:05:14.760894Z"
    },
    "papermill": {
     "duration": 4.775249,
     "end_time": "2022-01-24T01:36:54.153081",
     "exception": false,
     "start_time": "2022-01-24T01:36:49.377832",
     "status": "completed"
    },
    "tags": []
   },
   "outputs": [],
   "source": [
    "# DNN with SELU activation\n",
    "with tpu_strategy.scope():\n",
    "    model_selu = keras.models.Sequential()\n",
    "    for i in range(21):\n",
    "        if i == 0:\n",
    "            model_selu.add(keras.layers.Flatten(input_shape=(32, 32, 3)))\n",
    "        else:\n",
    "            model_selu.add(keras.layers.Dense(100, activation='selu', kernel_initializer=\"lecun_normal\"))\n",
    "    model_selu.add(keras.layers.Dense(10, activation='softmax'))\n",
    "    model_selu.compile(loss='sparse_categorical_crossentropy',\n",
    "                optimizer=keras.optimizers.Nadam(),\n",
    "                metrics=['accuracy'])"
   ]
  },
  {
   "cell_type": "code",
   "execution_count": 23,
   "id": "2fd36f67",
   "metadata": {
    "execution": {
     "iopub.execute_input": "2022-01-24T01:37:02.354403Z",
     "iopub.status.busy": "2022-01-24T01:37:02.353747Z",
     "iopub.status.idle": "2022-01-24T01:37:02.371640Z",
     "shell.execute_reply": "2022-01-24T01:37:02.372141Z",
     "shell.execute_reply.started": "2022-01-24T01:05:15.426935Z"
    },
    "papermill": {
     "duration": 4.153003,
     "end_time": "2022-01-24T01:37:02.372327",
     "exception": false,
     "start_time": "2022-01-24T01:36:58.219324",
     "status": "completed"
    },
    "tags": []
   },
   "outputs": [
    {
     "name": "stdout",
     "output_type": "stream",
     "text": [
      "Model: \"sequential\"\n",
      "_________________________________________________________________\n",
      "Layer (type)                 Output Shape              Param #   \n",
      "=================================================================\n",
      "flatten (Flatten)            (None, 3072)              0         \n",
      "_________________________________________________________________\n",
      "dense (Dense)                (None, 100)               307300    \n",
      "_________________________________________________________________\n",
      "dense_1 (Dense)              (None, 100)               10100     \n",
      "_________________________________________________________________\n",
      "dense_2 (Dense)              (None, 100)               10100     \n",
      "_________________________________________________________________\n",
      "dense_3 (Dense)              (None, 100)               10100     \n",
      "_________________________________________________________________\n",
      "dense_4 (Dense)              (None, 100)               10100     \n",
      "_________________________________________________________________\n",
      "dense_5 (Dense)              (None, 100)               10100     \n",
      "_________________________________________________________________\n",
      "dense_6 (Dense)              (None, 100)               10100     \n",
      "_________________________________________________________________\n",
      "dense_7 (Dense)              (None, 100)               10100     \n",
      "_________________________________________________________________\n",
      "dense_8 (Dense)              (None, 100)               10100     \n",
      "_________________________________________________________________\n",
      "dense_9 (Dense)              (None, 100)               10100     \n",
      "_________________________________________________________________\n",
      "dense_10 (Dense)             (None, 100)               10100     \n",
      "_________________________________________________________________\n",
      "dense_11 (Dense)             (None, 100)               10100     \n",
      "_________________________________________________________________\n",
      "dense_12 (Dense)             (None, 100)               10100     \n",
      "_________________________________________________________________\n",
      "dense_13 (Dense)             (None, 100)               10100     \n",
      "_________________________________________________________________\n",
      "dense_14 (Dense)             (None, 100)               10100     \n",
      "_________________________________________________________________\n",
      "dense_15 (Dense)             (None, 100)               10100     \n",
      "_________________________________________________________________\n",
      "dense_16 (Dense)             (None, 100)               10100     \n",
      "_________________________________________________________________\n",
      "dense_17 (Dense)             (None, 100)               10100     \n",
      "_________________________________________________________________\n",
      "dense_18 (Dense)             (None, 100)               10100     \n",
      "_________________________________________________________________\n",
      "dense_19 (Dense)             (None, 100)               10100     \n",
      "_________________________________________________________________\n",
      "dense_20 (Dense)             (None, 10)                1010      \n",
      "=================================================================\n",
      "Total params: 500,210\n",
      "Trainable params: 500,210\n",
      "Non-trainable params: 0\n",
      "_________________________________________________________________\n"
     ]
    }
   ],
   "source": [
    "model_selu.summary()"
   ]
  },
  {
   "cell_type": "code",
   "execution_count": 24,
   "id": "e5d904c8",
   "metadata": {
    "execution": {
     "iopub.execute_input": "2022-01-24T01:37:10.578068Z",
     "iopub.status.busy": "2022-01-24T01:37:10.577020Z",
     "iopub.status.idle": "2022-01-24T01:41:02.000071Z",
     "shell.execute_reply": "2022-01-24T01:41:02.000685Z",
     "shell.execute_reply.started": "2022-01-24T01:05:15.447327Z"
    },
    "papermill": {
     "duration": 235.594542,
     "end_time": "2022-01-24T01:41:02.000899",
     "exception": false,
     "start_time": "2022-01-24T01:37:06.406357",
     "status": "completed"
    },
    "tags": []
   },
   "outputs": [
    {
     "name": "stdout",
     "output_type": "stream",
     "text": [
      "Epoch 1/100\n",
      "352/352 [==============================] - 21s 29ms/step - loss: 2.0557 - accuracy: 0.2688 - val_loss: 1.7829 - val_accuracy: 0.3644\n",
      "Epoch 2/100\n",
      "352/352 [==============================] - 6s 17ms/step - loss: 1.6888 - accuracy: 0.4005 - val_loss: 1.7135 - val_accuracy: 0.3916\n",
      "Epoch 3/100\n",
      "352/352 [==============================] - 6s 17ms/step - loss: 1.5713 - accuracy: 0.4460 - val_loss: 1.6027 - val_accuracy: 0.4462\n",
      "Epoch 4/100\n",
      "352/352 [==============================] - 6s 18ms/step - loss: 1.4822 - accuracy: 0.4787 - val_loss: 1.5652 - val_accuracy: 0.4430\n",
      "Epoch 5/100\n",
      "352/352 [==============================] - 6s 17ms/step - loss: 1.4323 - accuracy: 0.4941 - val_loss: 1.5385 - val_accuracy: 0.4654\n",
      "Epoch 6/100\n",
      "352/352 [==============================] - 6s 17ms/step - loss: 1.3683 - accuracy: 0.5187 - val_loss: 1.4959 - val_accuracy: 0.4764\n",
      "Epoch 7/100\n",
      "352/352 [==============================] - 6s 17ms/step - loss: 1.3226 - accuracy: 0.5362 - val_loss: 1.4929 - val_accuracy: 0.4936\n",
      "Epoch 8/100\n",
      "352/352 [==============================] - 6s 17ms/step - loss: 1.2777 - accuracy: 0.5539 - val_loss: 1.4828 - val_accuracy: 0.4900\n",
      "Epoch 9/100\n",
      "352/352 [==============================] - 6s 17ms/step - loss: 1.2367 - accuracy: 0.5670 - val_loss: 1.5369 - val_accuracy: 0.4808\n",
      "Epoch 10/100\n",
      "352/352 [==============================] - 6s 17ms/step - loss: 1.1817 - accuracy: 0.5878 - val_loss: 1.4910 - val_accuracy: 0.4900\n",
      "Epoch 11/100\n",
      "352/352 [==============================] - 7s 19ms/step - loss: 1.1545 - accuracy: 0.5991 - val_loss: 1.5463 - val_accuracy: 0.4990\n",
      "Epoch 12/100\n",
      "352/352 [==============================] - 6s 17ms/step - loss: 1.1222 - accuracy: 0.6156 - val_loss: 1.4728 - val_accuracy: 0.5014\n",
      "Epoch 13/100\n",
      "352/352 [==============================] - 6s 17ms/step - loss: 1.0902 - accuracy: 0.6251 - val_loss: 1.4879 - val_accuracy: 0.5056\n",
      "Epoch 14/100\n",
      "352/352 [==============================] - 6s 17ms/step - loss: 1.0644 - accuracy: 0.6300 - val_loss: 1.4681 - val_accuracy: 0.5052\n",
      "Epoch 15/100\n",
      "352/352 [==============================] - 6s 18ms/step - loss: 1.0287 - accuracy: 0.6460 - val_loss: 1.5145 - val_accuracy: 0.5102\n",
      "Epoch 16/100\n",
      "352/352 [==============================] - 6s 17ms/step - loss: 0.9947 - accuracy: 0.6590 - val_loss: 1.5283 - val_accuracy: 0.5114\n",
      "Epoch 17/100\n",
      "352/352 [==============================] - 6s 17ms/step - loss: 0.9716 - accuracy: 0.6695 - val_loss: 1.5439 - val_accuracy: 0.5022\n",
      "Epoch 18/100\n",
      "352/352 [==============================] - 6s 17ms/step - loss: 0.9401 - accuracy: 0.6772 - val_loss: 1.5543 - val_accuracy: 0.5092\n",
      "Epoch 19/100\n",
      "352/352 [==============================] - 6s 17ms/step - loss: 0.9153 - accuracy: 0.6875 - val_loss: 1.5804 - val_accuracy: 0.5046\n",
      "Epoch 20/100\n",
      "352/352 [==============================] - 6s 17ms/step - loss: 0.8950 - accuracy: 0.6916 - val_loss: 1.5518 - val_accuracy: 0.4984\n",
      "Epoch 21/100\n",
      "352/352 [==============================] - 6s 17ms/step - loss: 0.8853 - accuracy: 0.6971 - val_loss: 1.6600 - val_accuracy: 0.5008\n",
      "Epoch 22/100\n",
      "352/352 [==============================] - 6s 18ms/step - loss: 0.8645 - accuracy: 0.7043 - val_loss: 1.5853 - val_accuracy: 0.5060\n",
      "Epoch 23/100\n",
      "352/352 [==============================] - 6s 17ms/step - loss: 0.8401 - accuracy: 0.7171 - val_loss: 1.6097 - val_accuracy: 0.5068\n",
      "Epoch 24/100\n",
      "352/352 [==============================] - 6s 17ms/step - loss: 0.8173 - accuracy: 0.7242 - val_loss: 1.6161 - val_accuracy: 0.5104\n",
      "Epoch 25/100\n",
      "352/352 [==============================] - 6s 17ms/step - loss: 0.7929 - accuracy: 0.7326 - val_loss: 1.6824 - val_accuracy: 0.5048\n",
      "Epoch 26/100\n",
      "352/352 [==============================] - 6s 17ms/step - loss: 0.7938 - accuracy: 0.7336 - val_loss: 1.6525 - val_accuracy: 0.4976\n",
      "Epoch 27/100\n",
      "352/352 [==============================] - 6s 17ms/step - loss: 0.7614 - accuracy: 0.7445 - val_loss: 1.6787 - val_accuracy: 0.4976\n",
      "Epoch 28/100\n",
      "352/352 [==============================] - 6s 17ms/step - loss: 0.7422 - accuracy: 0.7492 - val_loss: 1.7138 - val_accuracy: 0.5034\n",
      "Epoch 29/100\n",
      "352/352 [==============================] - 6s 17ms/step - loss: 0.7458 - accuracy: 0.7518 - val_loss: 1.7878 - val_accuracy: 0.5056\n",
      "Epoch 30/100\n",
      "352/352 [==============================] - 6s 17ms/step - loss: 0.7405 - accuracy: 0.7523 - val_loss: 1.7087 - val_accuracy: 0.5038\n",
      "Epoch 31/100\n",
      "352/352 [==============================] - 6s 17ms/step - loss: 0.6969 - accuracy: 0.7694 - val_loss: 1.7879 - val_accuracy: 0.5002\n",
      "Epoch 32/100\n",
      "352/352 [==============================] - 6s 17ms/step - loss: 0.6926 - accuracy: 0.7698 - val_loss: 1.8246 - val_accuracy: 0.5076\n",
      "Epoch 33/100\n",
      "352/352 [==============================] - 6s 17ms/step - loss: 0.6831 - accuracy: 0.7731 - val_loss: 1.7432 - val_accuracy: 0.5032\n",
      "Epoch 34/100\n",
      "352/352 [==============================] - 6s 17ms/step - loss: 0.6603 - accuracy: 0.7808 - val_loss: 1.7457 - val_accuracy: 0.5058\n"
     ]
    }
   ],
   "source": [
    "model_checkpoint = keras.callbacks.ModelCheckpoint('cifar10_model_selu.h5', save_best_only=True)\n",
    "history_selu = model_selu.fit(X_train_scaled, y_train, epochs=100, validation_data=(X_valid_scaled, y_valid), \n",
    "                              callbacks=[early_stopping, model_checkpoint],\n",
    "                              batch_size=BATCH_SIZE)"
   ]
  },
  {
   "cell_type": "code",
   "execution_count": 25,
   "id": "bf11c1f9",
   "metadata": {
    "execution": {
     "iopub.execute_input": "2022-01-24T01:41:12.018551Z",
     "iopub.status.busy": "2022-01-24T01:41:12.017754Z",
     "iopub.status.idle": "2022-01-24T01:41:12.101521Z",
     "shell.execute_reply": "2022-01-24T01:41:12.100642Z",
     "shell.execute_reply.started": "2022-01-24T01:08:37.155603Z"
    },
    "papermill": {
     "duration": 5.148377,
     "end_time": "2022-01-24T01:41:12.101726",
     "exception": false,
     "start_time": "2022-01-24T01:41:06.953349",
     "status": "completed"
    },
    "tags": []
   },
   "outputs": [
    {
     "data": {
      "text/html": [
       "<div>                            <div id=\"f10a5dc6-5a37-4a01-9a10-1fa24b70beb0\" class=\"plotly-graph-div\" style=\"height:600px; width:1000px;\"></div>            <script type=\"text/javascript\">                require([\"plotly\"], function(Plotly) {                    window.PLOTLYENV=window.PLOTLYENV || {};                                    if (document.getElementById(\"f10a5dc6-5a37-4a01-9a10-1fa24b70beb0\")) {                    Plotly.newPlot(                        \"f10a5dc6-5a37-4a01-9a10-1fa24b70beb0\",                        [{\"marker\":{\"color\":\"#ff0000\"},\"name\":\"SELU Activation Training Loss\",\"type\":\"scatter\",\"x\":[0,1,2,3,4,5,6,7,8,9,10,11,12,13,14,15,16,17,18,19,20,21,22,23,24,25,26,27,28,29,30,31,32,33],\"xaxis\":\"x\",\"y\":[1.897520899772644,1.6675437688827515,1.568242073059082,1.4903984069824219,1.4321588277816772,1.3731355667114258,1.3263576030731201,1.2886446714401245,1.2468667030334473,1.2069029808044434,1.174688458442688,1.1416255235671997,1.1075115203857422,1.0844007730484009,1.05099618434906,1.0200283527374268,0.996661365032196,0.967987060546875,0.9401827454566956,0.9233887195587158,0.8995169401168823,0.8797751069068909,0.8520522713661194,0.8389318585395813,0.8204610347747803,0.8122261166572571,0.7841296792030334,0.7663968801498413,0.7530127763748169,0.748439610004425,0.7225337028503418,0.7106640934944153,0.7059504985809326,0.685672402381897],\"yaxis\":\"y\"},{\"marker\":{\"color\":\"#800000\"},\"name\":\"SELU Activation Validation Loss\",\"type\":\"scatter\",\"x\":[0,1,2,3,4,5,6,7,8,9,10,11,12,13,14,15,16,17,18,19,20,21,22,23,24,25,26,27,28,29,30,31,32,33],\"xaxis\":\"x\",\"y\":[1.7829158306121826,1.7135306596755981,1.6026878356933594,1.565167784690857,1.538491129875183,1.495904803276062,1.4929231405258179,1.4828083515167236,1.5368937253952026,1.4910386800765991,1.5462769269943237,1.4727580547332764,1.487884283065796,1.4680585861206055,1.5145399570465088,1.5283445119857788,1.5438721179962158,1.5543437004089355,1.5803571939468384,1.5518207550048828,1.6600171327590942,1.5852638483047485,1.6096806526184082,1.6161366701126099,1.6824028491973877,1.6524564027786255,1.6786504983901978,1.7137540578842163,1.7877899408340454,1.7087483406066895,1.7878929376602173,1.8245654106140137,1.7432454824447632,1.7456507682800293],\"yaxis\":\"y\"},{\"marker\":{\"color\":\"#ff0000\"},\"name\":\"SELU Activation Training Accuracy\",\"type\":\"scatter\",\"x\":[0,1,2,3,4,5,6,7,8,9,10,11,12,13,14,15,16,17,18,19,20,21,22,23,24,25,26,27,28,29,30,31,32,33],\"xaxis\":\"x2\",\"y\":[0.3194444477558136,0.4098222255706787,0.4466666579246521,0.4753555655479431,0.4958222210407257,0.5167555809020996,0.53493332862854,0.550000011920929,0.5665777921676636,0.5802888870239258,0.5935111045837402,0.6067110896110535,0.6176000237464905,0.6238222122192383,0.6380444765090942,0.6495555639266968,0.6592222452163696,0.6676666736602783,0.6780666708946228,0.6833111047744751,0.6940000057220459,0.6991555690765381,0.7114666700363159,0.716688871383667,0.7240222096443176,0.7271555662155151,0.7360000014305115,0.7417555451393127,0.7475555539131165,0.7490222454071045,0.7594000101089478,0.7634444236755371,0.7667999863624573,0.772266685962677],\"yaxis\":\"y2\"},{\"marker\":{\"color\":\"#800000\"},\"name\":\"SELU Activation Validation Accuracy\",\"type\":\"scatter\",\"x\":[0,1,2,3,4,5,6,7,8,9,10,11,12,13,14,15,16,17,18,19,20,21,22,23,24,25,26,27,28,29,30,31,32,33],\"xaxis\":\"x2\",\"y\":[0.3643999993801117,0.39159998297691345,0.4461999833583832,0.4429999887943268,0.46539998054504395,0.4763999879360199,0.4935999810695648,0.4899999797344208,0.48079997301101685,0.4899999797344208,0.4989999830722809,0.5013999938964844,0.5055999755859375,0.5051999688148499,0.5101999640464783,0.5113999843597412,0.5022000074386597,0.5091999769210815,0.5045999884605408,0.4983999729156494,0.5008000135421753,0.5059999823570251,0.5067999958992004,0.5103999972343445,0.5047999620437622,0.4975999891757965,0.4975999891757965,0.5033999681472778,0.5055999755859375,0.5037999749183655,0.5001999735832214,0.5076000094413757,0.5031999945640564,0.5058000087738037],\"yaxis\":\"y2\"},{\"marker\":{\"color\":\"#4da6ff\"},\"name\":\"Batch Normalization Training Loss\",\"type\":\"scatter\",\"x\":[0,1,2,3,4,5,6,7,8,9,10,11,12,13,14,15,16,17,18,19,20,21,22,23,24,25,26,27,28,29,30,31,32,33,34,35,36,37,38,39,40,41,42,43,44,45,46,47,48,49,50,51,52,53,54,55,56,57,58,59,60,61,62,63,64,65,66],\"xaxis\":\"x\",\"y\":[1.936764121055603,1.769321084022522,1.714020013809204,1.6695241928100586,1.6347225904464722,1.6095420122146606,1.581154704093933,1.5577688217163086,1.5395036935806274,1.5200649499893188,1.4928622245788574,1.4788854122161865,1.4645309448242188,1.44692862033844,1.4368445873260498,1.423079490661621,1.414595365524292,1.3965765237808228,1.3912488222122192,1.374752402305603,1.3696702718734741,1.3572134971618652,1.3399854898452759,1.3380683660507202,1.325738549232483,1.3150091171264648,1.3092231750488281,1.2982860803604126,1.2866008281707764,1.2792280912399292,1.2714433670043945,1.261092185974121,1.2605221271514893,1.251524567604065,1.2432290315628052,1.2370976209640503,1.223035454750061,1.2232223749160767,1.2114359140396118,1.2109514474868774,1.1957950592041016,1.2002938985824585,1.1899292469024658,1.1860992908477783,1.1825469732284546,1.1699203252792358,1.1670947074890137,1.1553341150283813,1.1570649147033691,1.14866304397583,1.1455029249191284,1.1378635168075562,1.1379836797714233,1.1288652420043945,1.1265509128570557,1.1195695400238037,1.114951491355896,1.1183089017868042,1.1064389944076538,1.099612832069397,1.1010268926620483,1.0912690162658691,1.0939849615097046,1.0861306190490723,1.0759931802749634,1.0757761001586914,1.0696485042572021],\"yaxis\":\"y\"},{\"marker\":{\"color\":\"#0059b3\"},\"name\":\"Batch Normalization Validation Loss\",\"type\":\"scatter\",\"x\":[0,1,2,3,4,5,6,7,8,9,10,11,12,13,14,15,16,17,18,19,20,21,22,23,24,25,26,27,28,29,30,31,32,33,34,35,36,37,38,39,40,41,42,43,44,45,46,47,48,49,50,51,52,53,54,55,56,57,58,59,60,61,62,63,64,65,66],\"xaxis\":\"x\",\"y\":[1.687843680381775,1.646591305732727,1.5762232542037964,1.511103630065918,1.4791452884674072,1.4534010887145996,1.4595211744308472,1.4474867582321167,1.4076522588729858,1.4189881086349487,1.425942301750183,1.4340468645095825,1.405086636543274,1.4172801971435547,1.384418249130249,1.3913935422897339,1.38034987449646,1.3613861799240112,1.3708792924880981,1.341761827468872,1.3474165201187134,1.3671971559524536,1.3434243202209473,1.3136343955993652,1.3495651483535767,1.3491322994232178,1.3515369892120361,1.3257920742034912,1.3348324298858643,1.356698751449585,1.3327232599258423,1.3260488510131836,1.329464077949524,1.3229873180389404,1.3300318717956543,1.3268193006515503,1.3083198070526123,1.3446118831634521,1.313478946685791,1.3221663236618042,1.3221521377563477,1.3255279064178467,1.3303742408752441,1.3379247188568115,1.309654712677002,1.311742901802063,1.298919439315796,1.312701940536499,1.3453179597854614,1.3255990743637085,1.3243248462677002,1.3236600160598755,1.3011717796325684,1.3134989738464355,1.303179144859314,1.3270225524902344,1.307501196861267,1.3150736093521118,1.340916395187378,1.334128975868225,1.3221970796585083,1.3238272666931152,1.3370827436447144,1.323679804801941,1.3204442262649536,1.323353886604309,1.3192212581634521],\"yaxis\":\"y\"},{\"marker\":{\"color\":\"#4da6ff\"},\"name\":\"Batch Normalization Training Accuracy\",\"type\":\"scatter\",\"x\":[0,1,2,3,4,5,6,7,8,9,10,11,12,13,14,15,16,17,18,19,20,21,22,23,24,25,26,27,28,29,30,31,32,33,34,35,36,37,38,39,40,41,42,43,44,45,46,47,48,49,50,51,52,53,54,55,56,57,58,59,60,61,62,63,64,65,66],\"xaxis\":\"x2\",\"y\":[0.30168887972831726,0.3690222203731537,0.38706666231155396,0.406333327293396,0.41966667771339417,0.4309333264827728,0.4399777948856354,0.44575557112693787,0.4564000070095062,0.461177796125412,0.4752666652202606,0.4804888963699341,0.48444443941116333,0.4892444610595703,0.4918000102043152,0.4975777864456177,0.4996444582939148,0.505911111831665,0.5087110996246338,0.5144666433334351,0.5162222385406494,0.52311110496521,0.5311999917030334,0.5291333198547363,0.5315777659416199,0.5325778126716614,0.5376889109611511,0.5439777970314026,0.5486222505569458,0.5506666898727417,0.5555999875068665,0.5593777894973755,0.5579110980033875,0.561044454574585,0.562511146068573,0.5661777853965759,0.5709111094474792,0.5726222395896912,0.5750222206115723,0.5755333304405212,0.5800222158432007,0.5746889114379883,0.5836666822433472,0.5856888890266418,0.5832444429397583,0.5901333689689636,0.5920888781547546,0.5947999954223633,0.5936222076416016,0.5959555506706238,0.5983333587646484,0.600600004196167,0.6007333397865295,0.6060000061988831,0.6064222455024719,0.6064222455024719,0.6082888841629028,0.6099777817726135,0.6137333512306213,0.617888867855072,0.6143555641174316,0.6169778108596802,0.6182000041007996,0.6205778121948242,0.6196444630622864,0.6227111220359802,0.6250222325325012],\"yaxis\":\"y2\"},{\"marker\":{\"color\":\"#0059b3\"},\"name\":\"Batch Normalization Validation Accuracy\",\"type\":\"scatter\",\"x\":[0,1,2,3,4,5,6,7,8,9,10,11,12,13,14,15,16,17,18,19,20,21,22,23,24,25,26,27,28,29,30,31,32,33,34,35,36,37,38,39,40,41,42,43,44,45,46,47,48,49,50,51,52,53,54,55,56,57,58,59,60,61,62,63,64,65,66],\"xaxis\":\"x2\",\"y\":[0.4041999876499176,0.4065999984741211,0.43059998750686646,0.4583999812602997,0.4737999737262726,0.47859999537467957,0.48919999599456787,0.4860000014305115,0.5019999742507935,0.4989999830722809,0.495199978351593,0.5004000067710876,0.5083999633789062,0.5004000067710876,0.5091999769210815,0.5076000094413757,0.5083999633789062,0.5231999754905701,0.5133999586105347,0.5241999626159668,0.5343999862670898,0.5220000147819519,0.5315999984741211,0.5378000140190125,0.5309999585151672,0.5267999768257141,0.5273999571800232,0.5374000072479248,0.5324000120162964,0.525600016117096,0.5356000065803528,0.5353999733924866,0.5338000059127808,0.5381999611854553,0.5361999869346619,0.5370000004768372,0.5411999821662903,0.5267999768257141,0.5383999943733215,0.5399999618530273,0.5375999808311462,0.5533999800682068,0.5327999591827393,0.5342000126838684,0.545199990272522,0.542199969291687,0.5429999828338623,0.5388000011444092,0.5342000126838684,0.5397999882698059,0.5429999828338623,0.5379999876022339,0.5473999977111816,0.5361999869346619,0.5507999658584595,0.5407999753952026,0.5605999827384949,0.5446000099182129,0.5361999869346619,0.5407999753952026,0.5461999773979187,0.545199990272522,0.5349999666213989,0.5491999983787537,0.54339998960495,0.5388000011444092,0.5496000051498413],\"yaxis\":\"y2\"}],                        {\"height\":600,\"template\":{\"data\":{\"bar\":[{\"error_x\":{\"color\":\"#2a3f5f\"},\"error_y\":{\"color\":\"#2a3f5f\"},\"marker\":{\"line\":{\"color\":\"white\",\"width\":0.5},\"pattern\":{\"fillmode\":\"overlay\",\"size\":10,\"solidity\":0.2}},\"type\":\"bar\"}],\"barpolar\":[{\"marker\":{\"line\":{\"color\":\"white\",\"width\":0.5},\"pattern\":{\"fillmode\":\"overlay\",\"size\":10,\"solidity\":0.2}},\"type\":\"barpolar\"}],\"carpet\":[{\"aaxis\":{\"endlinecolor\":\"#2a3f5f\",\"gridcolor\":\"#C8D4E3\",\"linecolor\":\"#C8D4E3\",\"minorgridcolor\":\"#C8D4E3\",\"startlinecolor\":\"#2a3f5f\"},\"baxis\":{\"endlinecolor\":\"#2a3f5f\",\"gridcolor\":\"#C8D4E3\",\"linecolor\":\"#C8D4E3\",\"minorgridcolor\":\"#C8D4E3\",\"startlinecolor\":\"#2a3f5f\"},\"type\":\"carpet\"}],\"choropleth\":[{\"colorbar\":{\"outlinewidth\":0,\"ticks\":\"\"},\"type\":\"choropleth\"}],\"contour\":[{\"colorbar\":{\"outlinewidth\":0,\"ticks\":\"\"},\"colorscale\":[[0.0,\"#0d0887\"],[0.1111111111111111,\"#46039f\"],[0.2222222222222222,\"#7201a8\"],[0.3333333333333333,\"#9c179e\"],[0.4444444444444444,\"#bd3786\"],[0.5555555555555556,\"#d8576b\"],[0.6666666666666666,\"#ed7953\"],[0.7777777777777778,\"#fb9f3a\"],[0.8888888888888888,\"#fdca26\"],[1.0,\"#f0f921\"]],\"type\":\"contour\"}],\"contourcarpet\":[{\"colorbar\":{\"outlinewidth\":0,\"ticks\":\"\"},\"type\":\"contourcarpet\"}],\"heatmap\":[{\"colorbar\":{\"outlinewidth\":0,\"ticks\":\"\"},\"colorscale\":[[0.0,\"#0d0887\"],[0.1111111111111111,\"#46039f\"],[0.2222222222222222,\"#7201a8\"],[0.3333333333333333,\"#9c179e\"],[0.4444444444444444,\"#bd3786\"],[0.5555555555555556,\"#d8576b\"],[0.6666666666666666,\"#ed7953\"],[0.7777777777777778,\"#fb9f3a\"],[0.8888888888888888,\"#fdca26\"],[1.0,\"#f0f921\"]],\"type\":\"heatmap\"}],\"heatmapgl\":[{\"colorbar\":{\"outlinewidth\":0,\"ticks\":\"\"},\"colorscale\":[[0.0,\"#0d0887\"],[0.1111111111111111,\"#46039f\"],[0.2222222222222222,\"#7201a8\"],[0.3333333333333333,\"#9c179e\"],[0.4444444444444444,\"#bd3786\"],[0.5555555555555556,\"#d8576b\"],[0.6666666666666666,\"#ed7953\"],[0.7777777777777778,\"#fb9f3a\"],[0.8888888888888888,\"#fdca26\"],[1.0,\"#f0f921\"]],\"type\":\"heatmapgl\"}],\"histogram\":[{\"marker\":{\"pattern\":{\"fillmode\":\"overlay\",\"size\":10,\"solidity\":0.2}},\"type\":\"histogram\"}],\"histogram2d\":[{\"colorbar\":{\"outlinewidth\":0,\"ticks\":\"\"},\"colorscale\":[[0.0,\"#0d0887\"],[0.1111111111111111,\"#46039f\"],[0.2222222222222222,\"#7201a8\"],[0.3333333333333333,\"#9c179e\"],[0.4444444444444444,\"#bd3786\"],[0.5555555555555556,\"#d8576b\"],[0.6666666666666666,\"#ed7953\"],[0.7777777777777778,\"#fb9f3a\"],[0.8888888888888888,\"#fdca26\"],[1.0,\"#f0f921\"]],\"type\":\"histogram2d\"}],\"histogram2dcontour\":[{\"colorbar\":{\"outlinewidth\":0,\"ticks\":\"\"},\"colorscale\":[[0.0,\"#0d0887\"],[0.1111111111111111,\"#46039f\"],[0.2222222222222222,\"#7201a8\"],[0.3333333333333333,\"#9c179e\"],[0.4444444444444444,\"#bd3786\"],[0.5555555555555556,\"#d8576b\"],[0.6666666666666666,\"#ed7953\"],[0.7777777777777778,\"#fb9f3a\"],[0.8888888888888888,\"#fdca26\"],[1.0,\"#f0f921\"]],\"type\":\"histogram2dcontour\"}],\"mesh3d\":[{\"colorbar\":{\"outlinewidth\":0,\"ticks\":\"\"},\"type\":\"mesh3d\"}],\"parcoords\":[{\"line\":{\"colorbar\":{\"outlinewidth\":0,\"ticks\":\"\"}},\"type\":\"parcoords\"}],\"pie\":[{\"automargin\":true,\"type\":\"pie\"}],\"scatter\":[{\"marker\":{\"colorbar\":{\"outlinewidth\":0,\"ticks\":\"\"}},\"type\":\"scatter\"}],\"scatter3d\":[{\"line\":{\"colorbar\":{\"outlinewidth\":0,\"ticks\":\"\"}},\"marker\":{\"colorbar\":{\"outlinewidth\":0,\"ticks\":\"\"}},\"type\":\"scatter3d\"}],\"scattercarpet\":[{\"marker\":{\"colorbar\":{\"outlinewidth\":0,\"ticks\":\"\"}},\"type\":\"scattercarpet\"}],\"scattergeo\":[{\"marker\":{\"colorbar\":{\"outlinewidth\":0,\"ticks\":\"\"}},\"type\":\"scattergeo\"}],\"scattergl\":[{\"marker\":{\"colorbar\":{\"outlinewidth\":0,\"ticks\":\"\"}},\"type\":\"scattergl\"}],\"scattermapbox\":[{\"marker\":{\"colorbar\":{\"outlinewidth\":0,\"ticks\":\"\"}},\"type\":\"scattermapbox\"}],\"scatterpolar\":[{\"marker\":{\"colorbar\":{\"outlinewidth\":0,\"ticks\":\"\"}},\"type\":\"scatterpolar\"}],\"scatterpolargl\":[{\"marker\":{\"colorbar\":{\"outlinewidth\":0,\"ticks\":\"\"}},\"type\":\"scatterpolargl\"}],\"scatterternary\":[{\"marker\":{\"colorbar\":{\"outlinewidth\":0,\"ticks\":\"\"}},\"type\":\"scatterternary\"}],\"surface\":[{\"colorbar\":{\"outlinewidth\":0,\"ticks\":\"\"},\"colorscale\":[[0.0,\"#0d0887\"],[0.1111111111111111,\"#46039f\"],[0.2222222222222222,\"#7201a8\"],[0.3333333333333333,\"#9c179e\"],[0.4444444444444444,\"#bd3786\"],[0.5555555555555556,\"#d8576b\"],[0.6666666666666666,\"#ed7953\"],[0.7777777777777778,\"#fb9f3a\"],[0.8888888888888888,\"#fdca26\"],[1.0,\"#f0f921\"]],\"type\":\"surface\"}],\"table\":[{\"cells\":{\"fill\":{\"color\":\"#EBF0F8\"},\"line\":{\"color\":\"white\"}},\"header\":{\"fill\":{\"color\":\"#C8D4E3\"},\"line\":{\"color\":\"white\"}},\"type\":\"table\"}]},\"layout\":{\"annotationdefaults\":{\"arrowcolor\":\"#2a3f5f\",\"arrowhead\":0,\"arrowwidth\":1},\"autotypenumbers\":\"strict\",\"coloraxis\":{\"colorbar\":{\"outlinewidth\":0,\"ticks\":\"\"}},\"colorscale\":{\"diverging\":[[0,\"#8e0152\"],[0.1,\"#c51b7d\"],[0.2,\"#de77ae\"],[0.3,\"#f1b6da\"],[0.4,\"#fde0ef\"],[0.5,\"#f7f7f7\"],[0.6,\"#e6f5d0\"],[0.7,\"#b8e186\"],[0.8,\"#7fbc41\"],[0.9,\"#4d9221\"],[1,\"#276419\"]],\"sequential\":[[0.0,\"#0d0887\"],[0.1111111111111111,\"#46039f\"],[0.2222222222222222,\"#7201a8\"],[0.3333333333333333,\"#9c179e\"],[0.4444444444444444,\"#bd3786\"],[0.5555555555555556,\"#d8576b\"],[0.6666666666666666,\"#ed7953\"],[0.7777777777777778,\"#fb9f3a\"],[0.8888888888888888,\"#fdca26\"],[1.0,\"#f0f921\"]],\"sequentialminus\":[[0.0,\"#0d0887\"],[0.1111111111111111,\"#46039f\"],[0.2222222222222222,\"#7201a8\"],[0.3333333333333333,\"#9c179e\"],[0.4444444444444444,\"#bd3786\"],[0.5555555555555556,\"#d8576b\"],[0.6666666666666666,\"#ed7953\"],[0.7777777777777778,\"#fb9f3a\"],[0.8888888888888888,\"#fdca26\"],[1.0,\"#f0f921\"]]},\"colorway\":[\"#636efa\",\"#EF553B\",\"#00cc96\",\"#ab63fa\",\"#FFA15A\",\"#19d3f3\",\"#FF6692\",\"#B6E880\",\"#FF97FF\",\"#FECB52\"],\"font\":{\"color\":\"#2a3f5f\"},\"geo\":{\"bgcolor\":\"white\",\"lakecolor\":\"white\",\"landcolor\":\"white\",\"showlakes\":true,\"showland\":true,\"subunitcolor\":\"#C8D4E3\"},\"hoverlabel\":{\"align\":\"left\"},\"hovermode\":\"closest\",\"mapbox\":{\"style\":\"light\"},\"paper_bgcolor\":\"white\",\"plot_bgcolor\":\"white\",\"polar\":{\"angularaxis\":{\"gridcolor\":\"#EBF0F8\",\"linecolor\":\"#EBF0F8\",\"ticks\":\"\"},\"bgcolor\":\"white\",\"radialaxis\":{\"gridcolor\":\"#EBF0F8\",\"linecolor\":\"#EBF0F8\",\"ticks\":\"\"}},\"scene\":{\"xaxis\":{\"backgroundcolor\":\"white\",\"gridcolor\":\"#DFE8F3\",\"gridwidth\":2,\"linecolor\":\"#EBF0F8\",\"showbackground\":true,\"ticks\":\"\",\"zerolinecolor\":\"#EBF0F8\"},\"yaxis\":{\"backgroundcolor\":\"white\",\"gridcolor\":\"#DFE8F3\",\"gridwidth\":2,\"linecolor\":\"#EBF0F8\",\"showbackground\":true,\"ticks\":\"\",\"zerolinecolor\":\"#EBF0F8\"},\"zaxis\":{\"backgroundcolor\":\"white\",\"gridcolor\":\"#DFE8F3\",\"gridwidth\":2,\"linecolor\":\"#EBF0F8\",\"showbackground\":true,\"ticks\":\"\",\"zerolinecolor\":\"#EBF0F8\"}},\"shapedefaults\":{\"line\":{\"color\":\"#2a3f5f\"}},\"ternary\":{\"aaxis\":{\"gridcolor\":\"#DFE8F3\",\"linecolor\":\"#A2B1C6\",\"ticks\":\"\"},\"baxis\":{\"gridcolor\":\"#DFE8F3\",\"linecolor\":\"#A2B1C6\",\"ticks\":\"\"},\"bgcolor\":\"white\",\"caxis\":{\"gridcolor\":\"#DFE8F3\",\"linecolor\":\"#A2B1C6\",\"ticks\":\"\"}},\"title\":{\"x\":0.05},\"xaxis\":{\"automargin\":true,\"gridcolor\":\"#EBF0F8\",\"linecolor\":\"#EBF0F8\",\"ticks\":\"\",\"title\":{\"standoff\":15},\"zerolinecolor\":\"#EBF0F8\",\"zerolinewidth\":2},\"yaxis\":{\"automargin\":true,\"gridcolor\":\"#EBF0F8\",\"linecolor\":\"#EBF0F8\",\"ticks\":\"\",\"title\":{\"standoff\":15},\"zerolinecolor\":\"#EBF0F8\",\"zerolinewidth\":2}}},\"width\":1000,\"xaxis\":{\"anchor\":\"y\",\"domain\":[0.0,0.45]},\"xaxis2\":{\"anchor\":\"y2\",\"domain\":[0.55,1.0]},\"yaxis\":{\"anchor\":\"x\",\"domain\":[0.0,1.0]},\"yaxis2\":{\"anchor\":\"x2\",\"domain\":[0.0,1.0]}},                        {\"responsive\": true}                    ).then(function(){\n",
       "                            \n",
       "var gd = document.getElementById('f10a5dc6-5a37-4a01-9a10-1fa24b70beb0');\n",
       "var x = new MutationObserver(function (mutations, observer) {{\n",
       "        var display = window.getComputedStyle(gd).display;\n",
       "        if (!display || display === 'none') {{\n",
       "            console.log([gd, 'removed!']);\n",
       "            Plotly.purge(gd);\n",
       "            observer.disconnect();\n",
       "        }}\n",
       "}});\n",
       "\n",
       "// Listen for the removal of the full notebook cells\n",
       "var notebookContainer = gd.closest('#notebook-container');\n",
       "if (notebookContainer) {{\n",
       "    x.observe(notebookContainer, {childList: true});\n",
       "}}\n",
       "\n",
       "// Listen for the clearing of the current output cell\n",
       "var outputEl = gd.closest('.output');\n",
       "if (outputEl) {{\n",
       "    x.observe(outputEl, {childList: true});\n",
       "}}\n",
       "\n",
       "                        })                };                });            </script>        </div>"
      ]
     },
     "metadata": {},
     "output_type": "display_data"
    }
   ],
   "source": [
    "fig = compare_lr_curves(history_selu, \"SELU Activation\", history_batch, \"Batch Normalization\")\n",
    "fig.show()"
   ]
  },
  {
   "cell_type": "markdown",
   "id": "c3e57409",
   "metadata": {
    "papermill": {
     "duration": 5.190727,
     "end_time": "2022-01-24T01:41:22.375592",
     "exception": false,
     "start_time": "2022-01-24T01:41:17.184865",
     "status": "completed"
    },
    "tags": []
   },
   "source": [
    "## e)\n",
    "Try regularizing the model with alpha dropout, and compare with Dropout only."
   ]
  },
  {
   "cell_type": "code",
   "execution_count": 26,
   "id": "a7fea47d",
   "metadata": {
    "execution": {
     "iopub.execute_input": "2022-01-24T01:41:32.439315Z",
     "iopub.status.busy": "2022-01-24T01:41:32.438467Z",
     "iopub.status.idle": "2022-01-24T01:41:33.227475Z",
     "shell.execute_reply": "2022-01-24T01:41:33.226266Z",
     "shell.execute_reply.started": "2022-01-24T01:08:37.242489Z"
    },
    "papermill": {
     "duration": 5.838646,
     "end_time": "2022-01-24T01:41:33.227644",
     "exception": false,
     "start_time": "2022-01-24T01:41:27.388998",
     "status": "completed"
    },
    "tags": []
   },
   "outputs": [],
   "source": [
    "# add alpha dropout\n",
    "# DNN with SELU activation\n",
    "with tpu_strategy.scope():\n",
    "    model_alpha = keras.models.Sequential()\n",
    "    for i in range(21):\n",
    "        if i == 0:\n",
    "            model_alpha.add(keras.layers.Flatten(input_shape=(32, 32, 3)))\n",
    "            model_alpha.add(keras.layers.AlphaDropout(0.1))\n",
    "        else:\n",
    "            model_alpha.add(keras.layers.Dense(100, activation='selu', kernel_initializer=\"lecun_normal\"))\n",
    "            model_alpha.add(keras.layers.AlphaDropout(0.1))\n",
    "    model_alpha.add(keras.layers.Dense(10, activation='softmax'))\n",
    "    model_alpha.compile(loss='sparse_categorical_crossentropy',\n",
    "                optimizer=keras.optimizers.Nadam(),\n",
    "                metrics=['accuracy'])"
   ]
  },
  {
   "cell_type": "code",
   "execution_count": 27,
   "id": "6a7c6c0e",
   "metadata": {
    "execution": {
     "iopub.execute_input": "2022-01-24T01:41:43.284316Z",
     "iopub.status.busy": "2022-01-24T01:41:43.281991Z",
     "iopub.status.idle": "2022-01-24T01:41:43.296610Z",
     "shell.execute_reply": "2022-01-24T01:41:43.295279Z",
     "shell.execute_reply.started": "2022-01-24T01:08:37.995557Z"
    },
    "papermill": {
     "duration": 5.059178,
     "end_time": "2022-01-24T01:41:43.296843",
     "exception": false,
     "start_time": "2022-01-24T01:41:38.237665",
     "status": "completed"
    },
    "tags": []
   },
   "outputs": [
    {
     "name": "stdout",
     "output_type": "stream",
     "text": [
      "Model: \"sequential_1\"\n",
      "_________________________________________________________________\n",
      "Layer (type)                 Output Shape              Param #   \n",
      "=================================================================\n",
      "flatten_1 (Flatten)          (None, 3072)              0         \n",
      "_________________________________________________________________\n",
      "alpha_dropout (AlphaDropout) (None, 3072)              0         \n",
      "_________________________________________________________________\n",
      "dense_21 (Dense)             (None, 100)               307300    \n",
      "_________________________________________________________________\n",
      "alpha_dropout_1 (AlphaDropou (None, 100)               0         \n",
      "_________________________________________________________________\n",
      "dense_22 (Dense)             (None, 100)               10100     \n",
      "_________________________________________________________________\n",
      "alpha_dropout_2 (AlphaDropou (None, 100)               0         \n",
      "_________________________________________________________________\n",
      "dense_23 (Dense)             (None, 100)               10100     \n",
      "_________________________________________________________________\n",
      "alpha_dropout_3 (AlphaDropou (None, 100)               0         \n",
      "_________________________________________________________________\n",
      "dense_24 (Dense)             (None, 100)               10100     \n",
      "_________________________________________________________________\n",
      "alpha_dropout_4 (AlphaDropou (None, 100)               0         \n",
      "_________________________________________________________________\n",
      "dense_25 (Dense)             (None, 100)               10100     \n",
      "_________________________________________________________________\n",
      "alpha_dropout_5 (AlphaDropou (None, 100)               0         \n",
      "_________________________________________________________________\n",
      "dense_26 (Dense)             (None, 100)               10100     \n",
      "_________________________________________________________________\n",
      "alpha_dropout_6 (AlphaDropou (None, 100)               0         \n",
      "_________________________________________________________________\n",
      "dense_27 (Dense)             (None, 100)               10100     \n",
      "_________________________________________________________________\n",
      "alpha_dropout_7 (AlphaDropou (None, 100)               0         \n",
      "_________________________________________________________________\n",
      "dense_28 (Dense)             (None, 100)               10100     \n",
      "_________________________________________________________________\n",
      "alpha_dropout_8 (AlphaDropou (None, 100)               0         \n",
      "_________________________________________________________________\n",
      "dense_29 (Dense)             (None, 100)               10100     \n",
      "_________________________________________________________________\n",
      "alpha_dropout_9 (AlphaDropou (None, 100)               0         \n",
      "_________________________________________________________________\n",
      "dense_30 (Dense)             (None, 100)               10100     \n",
      "_________________________________________________________________\n",
      "alpha_dropout_10 (AlphaDropo (None, 100)               0         \n",
      "_________________________________________________________________\n",
      "dense_31 (Dense)             (None, 100)               10100     \n",
      "_________________________________________________________________\n",
      "alpha_dropout_11 (AlphaDropo (None, 100)               0         \n",
      "_________________________________________________________________\n",
      "dense_32 (Dense)             (None, 100)               10100     \n",
      "_________________________________________________________________\n",
      "alpha_dropout_12 (AlphaDropo (None, 100)               0         \n",
      "_________________________________________________________________\n",
      "dense_33 (Dense)             (None, 100)               10100     \n",
      "_________________________________________________________________\n",
      "alpha_dropout_13 (AlphaDropo (None, 100)               0         \n",
      "_________________________________________________________________\n",
      "dense_34 (Dense)             (None, 100)               10100     \n",
      "_________________________________________________________________\n",
      "alpha_dropout_14 (AlphaDropo (None, 100)               0         \n",
      "_________________________________________________________________\n",
      "dense_35 (Dense)             (None, 100)               10100     \n",
      "_________________________________________________________________\n",
      "alpha_dropout_15 (AlphaDropo (None, 100)               0         \n",
      "_________________________________________________________________\n",
      "dense_36 (Dense)             (None, 100)               10100     \n",
      "_________________________________________________________________\n",
      "alpha_dropout_16 (AlphaDropo (None, 100)               0         \n",
      "_________________________________________________________________\n",
      "dense_37 (Dense)             (None, 100)               10100     \n",
      "_________________________________________________________________\n",
      "alpha_dropout_17 (AlphaDropo (None, 100)               0         \n",
      "_________________________________________________________________\n",
      "dense_38 (Dense)             (None, 100)               10100     \n",
      "_________________________________________________________________\n",
      "alpha_dropout_18 (AlphaDropo (None, 100)               0         \n",
      "_________________________________________________________________\n",
      "dense_39 (Dense)             (None, 100)               10100     \n",
      "_________________________________________________________________\n",
      "alpha_dropout_19 (AlphaDropo (None, 100)               0         \n",
      "_________________________________________________________________\n",
      "dense_40 (Dense)             (None, 100)               10100     \n",
      "_________________________________________________________________\n",
      "alpha_dropout_20 (AlphaDropo (None, 100)               0         \n",
      "_________________________________________________________________\n",
      "dense_41 (Dense)             (None, 10)                1010      \n",
      "=================================================================\n",
      "Total params: 500,210\n",
      "Trainable params: 500,210\n",
      "Non-trainable params: 0\n",
      "_________________________________________________________________\n"
     ]
    }
   ],
   "source": [
    "model_alpha.summary()"
   ]
  },
  {
   "cell_type": "code",
   "execution_count": 28,
   "id": "eec9d2b7",
   "metadata": {
    "execution": {
     "iopub.execute_input": "2022-01-24T01:41:53.447963Z",
     "iopub.status.busy": "2022-01-24T01:41:53.446877Z",
     "iopub.status.idle": "2022-01-24T01:44:23.082209Z",
     "shell.execute_reply": "2022-01-24T01:44:23.081405Z",
     "shell.execute_reply.started": "2022-01-24T01:08:38.023035Z"
    },
    "papermill": {
     "duration": 154.737789,
     "end_time": "2022-01-24T01:44:23.082370",
     "exception": false,
     "start_time": "2022-01-24T01:41:48.344581",
     "status": "completed"
    },
    "tags": []
   },
   "outputs": [
    {
     "name": "stdout",
     "output_type": "stream",
     "text": [
      "Epoch 1/100\n",
      "352/352 [==============================] - 23s 29ms/step - loss: 2.4402 - accuracy: 0.1494 - val_loss: 3.4392 - val_accuracy: 0.2046\n",
      "Epoch 2/100\n",
      "352/352 [==============================] - 7s 20ms/step - loss: 2.0047 - accuracy: 0.2228 - val_loss: 5.5217 - val_accuracy: 0.2202\n",
      "Epoch 3/100\n",
      "352/352 [==============================] - 6s 17ms/step - loss: 1.9112 - accuracy: 0.2721 - val_loss: 4.4721 - val_accuracy: 0.2382\n",
      "Epoch 4/100\n",
      "352/352 [==============================] - 6s 17ms/step - loss: 1.8563 - accuracy: 0.2874 - val_loss: 5.0211 - val_accuracy: 0.3036\n",
      "Epoch 5/100\n",
      "352/352 [==============================] - 6s 17ms/step - loss: 1.8092 - accuracy: 0.3163 - val_loss: 5.0511 - val_accuracy: 0.3070\n",
      "Epoch 6/100\n",
      "352/352 [==============================] - 6s 17ms/step - loss: 1.7794 - accuracy: 0.3266 - val_loss: 7.6891 - val_accuracy: 0.3194\n",
      "Epoch 7/100\n",
      "352/352 [==============================] - 6s 17ms/step - loss: 1.7674 - accuracy: 0.3293 - val_loss: 6.1595 - val_accuracy: 0.3424\n",
      "Epoch 8/100\n",
      "352/352 [==============================] - 6s 18ms/step - loss: 1.7235 - accuracy: 0.3521 - val_loss: 6.5030 - val_accuracy: 0.3418\n",
      "Epoch 9/100\n",
      "352/352 [==============================] - 6s 17ms/step - loss: 1.7146 - accuracy: 0.3566 - val_loss: 6.9164 - val_accuracy: 0.3444\n",
      "Epoch 10/100\n",
      "352/352 [==============================] - 6s 17ms/step - loss: 1.7043 - accuracy: 0.3747 - val_loss: 6.0525 - val_accuracy: 0.3770\n",
      "Epoch 11/100\n",
      "352/352 [==============================] - 6s 17ms/step - loss: 1.6819 - accuracy: 0.3806 - val_loss: 6.1930 - val_accuracy: 0.3672\n",
      "Epoch 12/100\n",
      "352/352 [==============================] - 6s 17ms/step - loss: 1.6708 - accuracy: 0.3870 - val_loss: 6.0598 - val_accuracy: 0.3534\n",
      "Epoch 13/100\n",
      "352/352 [==============================] - 6s 17ms/step - loss: 1.6554 - accuracy: 0.3992 - val_loss: 6.1926 - val_accuracy: 0.3286\n",
      "Epoch 14/100\n",
      "352/352 [==============================] - 6s 17ms/step - loss: 1.6668 - accuracy: 0.3940 - val_loss: 5.6794 - val_accuracy: 0.3678\n",
      "Epoch 15/100\n",
      "352/352 [==============================] - 6s 17ms/step - loss: 1.6332 - accuracy: 0.4074 - val_loss: 6.8685 - val_accuracy: 0.3842\n",
      "Epoch 16/100\n",
      "352/352 [==============================] - 6s 17ms/step - loss: 1.6071 - accuracy: 0.4207 - val_loss: 6.4575 - val_accuracy: 0.3850\n",
      "Epoch 17/100\n",
      "352/352 [==============================] - 6s 17ms/step - loss: 1.6069 - accuracy: 0.4157 - val_loss: 6.5376 - val_accuracy: 0.3858\n",
      "Epoch 18/100\n",
      "352/352 [==============================] - 6s 17ms/step - loss: 1.5975 - accuracy: 0.4220 - val_loss: 6.0301 - val_accuracy: 0.3824\n",
      "Epoch 19/100\n",
      "352/352 [==============================] - 6s 17ms/step - loss: 1.5996 - accuracy: 0.4259 - val_loss: 5.5799 - val_accuracy: 0.3990\n",
      "Epoch 20/100\n",
      "352/352 [==============================] - 6s 17ms/step - loss: 1.5732 - accuracy: 0.4368 - val_loss: 6.1140 - val_accuracy: 0.3980\n",
      "Epoch 21/100\n",
      "352/352 [==============================] - 6s 17ms/step - loss: 1.5986 - accuracy: 0.4254 - val_loss: 5.5674 - val_accuracy: 0.3506\n"
     ]
    }
   ],
   "source": [
    "model_checkpoint = keras.callbacks.ModelCheckpoint('cifar10_model_alpha.h5', save_best_only=True)\n",
    "history_alpha = model_alpha.fit(X_train_scaled, y_train, epochs=100, validation_data=(X_valid_scaled, y_valid), \n",
    "                                callbacks=[early_stopping, model_checkpoint], batch_size=BATCH_SIZE)"
   ]
  },
  {
   "cell_type": "code",
   "execution_count": 29,
   "id": "44461b1a",
   "metadata": {
    "execution": {
     "iopub.execute_input": "2022-01-24T01:44:34.429586Z",
     "iopub.status.busy": "2022-01-24T01:44:34.428902Z",
     "iopub.status.idle": "2022-01-24T01:44:34.505230Z",
     "shell.execute_reply": "2022-01-24T01:44:34.505761Z",
     "shell.execute_reply.started": "2022-01-24T01:11:02.355792Z"
    },
    "papermill": {
     "duration": 5.777955,
     "end_time": "2022-01-24T01:44:34.505932",
     "exception": false,
     "start_time": "2022-01-24T01:44:28.727977",
     "status": "completed"
    },
    "tags": []
   },
   "outputs": [
    {
     "data": {
      "text/html": [
       "<div>                            <div id=\"e973ad92-169f-4ba2-aea4-74ce88ddef59\" class=\"plotly-graph-div\" style=\"height:600px; width:1000px;\"></div>            <script type=\"text/javascript\">                require([\"plotly\"], function(Plotly) {                    window.PLOTLYENV=window.PLOTLYENV || {};                                    if (document.getElementById(\"e973ad92-169f-4ba2-aea4-74ce88ddef59\")) {                    Plotly.newPlot(                        \"e973ad92-169f-4ba2-aea4-74ce88ddef59\",                        [{\"marker\":{\"color\":\"#ff0000\"},\"name\":\"Alpha Dropout Training Loss\",\"type\":\"scatter\",\"x\":[0,1,2,3,4,5,6,7,8,9,10,11,12,13,14,15,16,17,18,19,20],\"xaxis\":\"x\",\"y\":[2.23618483543396,1.9718146324157715,1.8918282985687256,1.8473831415176392,1.8044594526290894,1.7741196155548096,1.7583088874816895,1.730689287185669,1.7135666608810425,1.6949446201324463,1.6786640882492065,1.6692126989364624,1.6568140983581543,1.6550238132476807,1.6352894306182861,1.6118755340576172,1.6070417165756226,1.6030808687210083,1.5955326557159424,1.5795060396194458,1.5978442430496216],\"yaxis\":\"y\"},{\"marker\":{\"color\":\"#800000\"},\"name\":\"Alpha Dropout Validation Loss\",\"type\":\"scatter\",\"x\":[0,1,2,3,4,5,6,7,8,9,10,11,12,13,14,15,16,17,18,19,20],\"xaxis\":\"x\",\"y\":[3.4392378330230713,5.52169132232666,4.472100734710693,5.021130561828613,5.051077842712402,7.6890716552734375,6.159523963928223,6.502964973449707,6.916423320770264,6.052457332611084,6.192996025085449,6.059800624847412,6.192610740661621,5.679350852966309,6.868520259857178,6.45745325088501,6.537555694580078,6.030148506164551,5.579928874969482,6.113961219787598,5.56744384765625],\"yaxis\":\"y\"},{\"marker\":{\"color\":\"#ff0000\"},\"name\":\"Alpha Dropout Training Accuracy\",\"type\":\"scatter\",\"x\":[0,1,2,3,4,5,6,7,8,9,10,11,12,13,14,15,16,17,18,19,20],\"xaxis\":\"x2\",\"y\":[0.16806666553020477,0.23964445292949677,0.27711111307144165,0.29304444789886475,0.3171333372592926,0.33322224020957947,0.33633333444595337,0.35091111063957214,0.35920000076293945,0.376244455575943,0.3820444345474243,0.386044442653656,0.39811110496520996,0.3973555564880371,0.40815556049346924,0.4189777970314026,0.41957777738571167,0.42151111364364624,0.42933332920074463,0.4329777956008911,0.4251111149787903],\"yaxis\":\"y2\"},{\"marker\":{\"color\":\"#800000\"},\"name\":\"Alpha Dropout Validation Accuracy\",\"type\":\"scatter\",\"x\":[0,1,2,3,4,5,6,7,8,9,10,11,12,13,14,15,16,17,18,19,20],\"xaxis\":\"x2\",\"y\":[0.204599991440773,0.22019998729228973,0.23819999396800995,0.3035999834537506,0.30699998140335083,0.31939998269081116,0.3423999845981598,0.3418000042438507,0.34439998865127563,0.37700000405311584,0.36719998717308044,0.35339999198913574,0.3285999894142151,0.3677999973297119,0.38419997692108154,0.38499999046325684,0.38580000400543213,0.3823999762535095,0.39899998903274536,0.39800000190734863,0.350600004196167],\"yaxis\":\"y2\"},{\"marker\":{\"color\":\"#4da6ff\"},\"name\":\"w/o Alpha Dropout Training Loss\",\"type\":\"scatter\",\"x\":[0,1,2,3,4,5,6,7,8,9,10,11,12,13,14,15,16,17,18,19,20,21,22,23,24,25,26,27,28,29,30,31,32,33],\"xaxis\":\"x\",\"y\":[1.897520899772644,1.6675437688827515,1.568242073059082,1.4903984069824219,1.4321588277816772,1.3731355667114258,1.3263576030731201,1.2886446714401245,1.2468667030334473,1.2069029808044434,1.174688458442688,1.1416255235671997,1.1075115203857422,1.0844007730484009,1.05099618434906,1.0200283527374268,0.996661365032196,0.967987060546875,0.9401827454566956,0.9233887195587158,0.8995169401168823,0.8797751069068909,0.8520522713661194,0.8389318585395813,0.8204610347747803,0.8122261166572571,0.7841296792030334,0.7663968801498413,0.7530127763748169,0.748439610004425,0.7225337028503418,0.7106640934944153,0.7059504985809326,0.685672402381897],\"yaxis\":\"y\"},{\"marker\":{\"color\":\"#0059b3\"},\"name\":\"w/o Alpha Dropout Validation Loss\",\"type\":\"scatter\",\"x\":[0,1,2,3,4,5,6,7,8,9,10,11,12,13,14,15,16,17,18,19,20,21,22,23,24,25,26,27,28,29,30,31,32,33],\"xaxis\":\"x\",\"y\":[1.7829158306121826,1.7135306596755981,1.6026878356933594,1.565167784690857,1.538491129875183,1.495904803276062,1.4929231405258179,1.4828083515167236,1.5368937253952026,1.4910386800765991,1.5462769269943237,1.4727580547332764,1.487884283065796,1.4680585861206055,1.5145399570465088,1.5283445119857788,1.5438721179962158,1.5543437004089355,1.5803571939468384,1.5518207550048828,1.6600171327590942,1.5852638483047485,1.6096806526184082,1.6161366701126099,1.6824028491973877,1.6524564027786255,1.6786504983901978,1.7137540578842163,1.7877899408340454,1.7087483406066895,1.7878929376602173,1.8245654106140137,1.7432454824447632,1.7456507682800293],\"yaxis\":\"y\"},{\"marker\":{\"color\":\"#4da6ff\"},\"name\":\"w/o Alpha Dropout Training Accuracy\",\"type\":\"scatter\",\"x\":[0,1,2,3,4,5,6,7,8,9,10,11,12,13,14,15,16,17,18,19,20,21,22,23,24,25,26,27,28,29,30,31,32,33],\"xaxis\":\"x2\",\"y\":[0.3194444477558136,0.4098222255706787,0.4466666579246521,0.4753555655479431,0.4958222210407257,0.5167555809020996,0.53493332862854,0.550000011920929,0.5665777921676636,0.5802888870239258,0.5935111045837402,0.6067110896110535,0.6176000237464905,0.6238222122192383,0.6380444765090942,0.6495555639266968,0.6592222452163696,0.6676666736602783,0.6780666708946228,0.6833111047744751,0.6940000057220459,0.6991555690765381,0.7114666700363159,0.716688871383667,0.7240222096443176,0.7271555662155151,0.7360000014305115,0.7417555451393127,0.7475555539131165,0.7490222454071045,0.7594000101089478,0.7634444236755371,0.7667999863624573,0.772266685962677],\"yaxis\":\"y2\"},{\"marker\":{\"color\":\"#0059b3\"},\"name\":\"w/o Alpha Dropout Validation Accuracy\",\"type\":\"scatter\",\"x\":[0,1,2,3,4,5,6,7,8,9,10,11,12,13,14,15,16,17,18,19,20,21,22,23,24,25,26,27,28,29,30,31,32,33],\"xaxis\":\"x2\",\"y\":[0.3643999993801117,0.39159998297691345,0.4461999833583832,0.4429999887943268,0.46539998054504395,0.4763999879360199,0.4935999810695648,0.4899999797344208,0.48079997301101685,0.4899999797344208,0.4989999830722809,0.5013999938964844,0.5055999755859375,0.5051999688148499,0.5101999640464783,0.5113999843597412,0.5022000074386597,0.5091999769210815,0.5045999884605408,0.4983999729156494,0.5008000135421753,0.5059999823570251,0.5067999958992004,0.5103999972343445,0.5047999620437622,0.4975999891757965,0.4975999891757965,0.5033999681472778,0.5055999755859375,0.5037999749183655,0.5001999735832214,0.5076000094413757,0.5031999945640564,0.5058000087738037],\"yaxis\":\"y2\"}],                        {\"height\":600,\"template\":{\"data\":{\"bar\":[{\"error_x\":{\"color\":\"#2a3f5f\"},\"error_y\":{\"color\":\"#2a3f5f\"},\"marker\":{\"line\":{\"color\":\"white\",\"width\":0.5},\"pattern\":{\"fillmode\":\"overlay\",\"size\":10,\"solidity\":0.2}},\"type\":\"bar\"}],\"barpolar\":[{\"marker\":{\"line\":{\"color\":\"white\",\"width\":0.5},\"pattern\":{\"fillmode\":\"overlay\",\"size\":10,\"solidity\":0.2}},\"type\":\"barpolar\"}],\"carpet\":[{\"aaxis\":{\"endlinecolor\":\"#2a3f5f\",\"gridcolor\":\"#C8D4E3\",\"linecolor\":\"#C8D4E3\",\"minorgridcolor\":\"#C8D4E3\",\"startlinecolor\":\"#2a3f5f\"},\"baxis\":{\"endlinecolor\":\"#2a3f5f\",\"gridcolor\":\"#C8D4E3\",\"linecolor\":\"#C8D4E3\",\"minorgridcolor\":\"#C8D4E3\",\"startlinecolor\":\"#2a3f5f\"},\"type\":\"carpet\"}],\"choropleth\":[{\"colorbar\":{\"outlinewidth\":0,\"ticks\":\"\"},\"type\":\"choropleth\"}],\"contour\":[{\"colorbar\":{\"outlinewidth\":0,\"ticks\":\"\"},\"colorscale\":[[0.0,\"#0d0887\"],[0.1111111111111111,\"#46039f\"],[0.2222222222222222,\"#7201a8\"],[0.3333333333333333,\"#9c179e\"],[0.4444444444444444,\"#bd3786\"],[0.5555555555555556,\"#d8576b\"],[0.6666666666666666,\"#ed7953\"],[0.7777777777777778,\"#fb9f3a\"],[0.8888888888888888,\"#fdca26\"],[1.0,\"#f0f921\"]],\"type\":\"contour\"}],\"contourcarpet\":[{\"colorbar\":{\"outlinewidth\":0,\"ticks\":\"\"},\"type\":\"contourcarpet\"}],\"heatmap\":[{\"colorbar\":{\"outlinewidth\":0,\"ticks\":\"\"},\"colorscale\":[[0.0,\"#0d0887\"],[0.1111111111111111,\"#46039f\"],[0.2222222222222222,\"#7201a8\"],[0.3333333333333333,\"#9c179e\"],[0.4444444444444444,\"#bd3786\"],[0.5555555555555556,\"#d8576b\"],[0.6666666666666666,\"#ed7953\"],[0.7777777777777778,\"#fb9f3a\"],[0.8888888888888888,\"#fdca26\"],[1.0,\"#f0f921\"]],\"type\":\"heatmap\"}],\"heatmapgl\":[{\"colorbar\":{\"outlinewidth\":0,\"ticks\":\"\"},\"colorscale\":[[0.0,\"#0d0887\"],[0.1111111111111111,\"#46039f\"],[0.2222222222222222,\"#7201a8\"],[0.3333333333333333,\"#9c179e\"],[0.4444444444444444,\"#bd3786\"],[0.5555555555555556,\"#d8576b\"],[0.6666666666666666,\"#ed7953\"],[0.7777777777777778,\"#fb9f3a\"],[0.8888888888888888,\"#fdca26\"],[1.0,\"#f0f921\"]],\"type\":\"heatmapgl\"}],\"histogram\":[{\"marker\":{\"pattern\":{\"fillmode\":\"overlay\",\"size\":10,\"solidity\":0.2}},\"type\":\"histogram\"}],\"histogram2d\":[{\"colorbar\":{\"outlinewidth\":0,\"ticks\":\"\"},\"colorscale\":[[0.0,\"#0d0887\"],[0.1111111111111111,\"#46039f\"],[0.2222222222222222,\"#7201a8\"],[0.3333333333333333,\"#9c179e\"],[0.4444444444444444,\"#bd3786\"],[0.5555555555555556,\"#d8576b\"],[0.6666666666666666,\"#ed7953\"],[0.7777777777777778,\"#fb9f3a\"],[0.8888888888888888,\"#fdca26\"],[1.0,\"#f0f921\"]],\"type\":\"histogram2d\"}],\"histogram2dcontour\":[{\"colorbar\":{\"outlinewidth\":0,\"ticks\":\"\"},\"colorscale\":[[0.0,\"#0d0887\"],[0.1111111111111111,\"#46039f\"],[0.2222222222222222,\"#7201a8\"],[0.3333333333333333,\"#9c179e\"],[0.4444444444444444,\"#bd3786\"],[0.5555555555555556,\"#d8576b\"],[0.6666666666666666,\"#ed7953\"],[0.7777777777777778,\"#fb9f3a\"],[0.8888888888888888,\"#fdca26\"],[1.0,\"#f0f921\"]],\"type\":\"histogram2dcontour\"}],\"mesh3d\":[{\"colorbar\":{\"outlinewidth\":0,\"ticks\":\"\"},\"type\":\"mesh3d\"}],\"parcoords\":[{\"line\":{\"colorbar\":{\"outlinewidth\":0,\"ticks\":\"\"}},\"type\":\"parcoords\"}],\"pie\":[{\"automargin\":true,\"type\":\"pie\"}],\"scatter\":[{\"marker\":{\"colorbar\":{\"outlinewidth\":0,\"ticks\":\"\"}},\"type\":\"scatter\"}],\"scatter3d\":[{\"line\":{\"colorbar\":{\"outlinewidth\":0,\"ticks\":\"\"}},\"marker\":{\"colorbar\":{\"outlinewidth\":0,\"ticks\":\"\"}},\"type\":\"scatter3d\"}],\"scattercarpet\":[{\"marker\":{\"colorbar\":{\"outlinewidth\":0,\"ticks\":\"\"}},\"type\":\"scattercarpet\"}],\"scattergeo\":[{\"marker\":{\"colorbar\":{\"outlinewidth\":0,\"ticks\":\"\"}},\"type\":\"scattergeo\"}],\"scattergl\":[{\"marker\":{\"colorbar\":{\"outlinewidth\":0,\"ticks\":\"\"}},\"type\":\"scattergl\"}],\"scattermapbox\":[{\"marker\":{\"colorbar\":{\"outlinewidth\":0,\"ticks\":\"\"}},\"type\":\"scattermapbox\"}],\"scatterpolar\":[{\"marker\":{\"colorbar\":{\"outlinewidth\":0,\"ticks\":\"\"}},\"type\":\"scatterpolar\"}],\"scatterpolargl\":[{\"marker\":{\"colorbar\":{\"outlinewidth\":0,\"ticks\":\"\"}},\"type\":\"scatterpolargl\"}],\"scatterternary\":[{\"marker\":{\"colorbar\":{\"outlinewidth\":0,\"ticks\":\"\"}},\"type\":\"scatterternary\"}],\"surface\":[{\"colorbar\":{\"outlinewidth\":0,\"ticks\":\"\"},\"colorscale\":[[0.0,\"#0d0887\"],[0.1111111111111111,\"#46039f\"],[0.2222222222222222,\"#7201a8\"],[0.3333333333333333,\"#9c179e\"],[0.4444444444444444,\"#bd3786\"],[0.5555555555555556,\"#d8576b\"],[0.6666666666666666,\"#ed7953\"],[0.7777777777777778,\"#fb9f3a\"],[0.8888888888888888,\"#fdca26\"],[1.0,\"#f0f921\"]],\"type\":\"surface\"}],\"table\":[{\"cells\":{\"fill\":{\"color\":\"#EBF0F8\"},\"line\":{\"color\":\"white\"}},\"header\":{\"fill\":{\"color\":\"#C8D4E3\"},\"line\":{\"color\":\"white\"}},\"type\":\"table\"}]},\"layout\":{\"annotationdefaults\":{\"arrowcolor\":\"#2a3f5f\",\"arrowhead\":0,\"arrowwidth\":1},\"autotypenumbers\":\"strict\",\"coloraxis\":{\"colorbar\":{\"outlinewidth\":0,\"ticks\":\"\"}},\"colorscale\":{\"diverging\":[[0,\"#8e0152\"],[0.1,\"#c51b7d\"],[0.2,\"#de77ae\"],[0.3,\"#f1b6da\"],[0.4,\"#fde0ef\"],[0.5,\"#f7f7f7\"],[0.6,\"#e6f5d0\"],[0.7,\"#b8e186\"],[0.8,\"#7fbc41\"],[0.9,\"#4d9221\"],[1,\"#276419\"]],\"sequential\":[[0.0,\"#0d0887\"],[0.1111111111111111,\"#46039f\"],[0.2222222222222222,\"#7201a8\"],[0.3333333333333333,\"#9c179e\"],[0.4444444444444444,\"#bd3786\"],[0.5555555555555556,\"#d8576b\"],[0.6666666666666666,\"#ed7953\"],[0.7777777777777778,\"#fb9f3a\"],[0.8888888888888888,\"#fdca26\"],[1.0,\"#f0f921\"]],\"sequentialminus\":[[0.0,\"#0d0887\"],[0.1111111111111111,\"#46039f\"],[0.2222222222222222,\"#7201a8\"],[0.3333333333333333,\"#9c179e\"],[0.4444444444444444,\"#bd3786\"],[0.5555555555555556,\"#d8576b\"],[0.6666666666666666,\"#ed7953\"],[0.7777777777777778,\"#fb9f3a\"],[0.8888888888888888,\"#fdca26\"],[1.0,\"#f0f921\"]]},\"colorway\":[\"#636efa\",\"#EF553B\",\"#00cc96\",\"#ab63fa\",\"#FFA15A\",\"#19d3f3\",\"#FF6692\",\"#B6E880\",\"#FF97FF\",\"#FECB52\"],\"font\":{\"color\":\"#2a3f5f\"},\"geo\":{\"bgcolor\":\"white\",\"lakecolor\":\"white\",\"landcolor\":\"white\",\"showlakes\":true,\"showland\":true,\"subunitcolor\":\"#C8D4E3\"},\"hoverlabel\":{\"align\":\"left\"},\"hovermode\":\"closest\",\"mapbox\":{\"style\":\"light\"},\"paper_bgcolor\":\"white\",\"plot_bgcolor\":\"white\",\"polar\":{\"angularaxis\":{\"gridcolor\":\"#EBF0F8\",\"linecolor\":\"#EBF0F8\",\"ticks\":\"\"},\"bgcolor\":\"white\",\"radialaxis\":{\"gridcolor\":\"#EBF0F8\",\"linecolor\":\"#EBF0F8\",\"ticks\":\"\"}},\"scene\":{\"xaxis\":{\"backgroundcolor\":\"white\",\"gridcolor\":\"#DFE8F3\",\"gridwidth\":2,\"linecolor\":\"#EBF0F8\",\"showbackground\":true,\"ticks\":\"\",\"zerolinecolor\":\"#EBF0F8\"},\"yaxis\":{\"backgroundcolor\":\"white\",\"gridcolor\":\"#DFE8F3\",\"gridwidth\":2,\"linecolor\":\"#EBF0F8\",\"showbackground\":true,\"ticks\":\"\",\"zerolinecolor\":\"#EBF0F8\"},\"zaxis\":{\"backgroundcolor\":\"white\",\"gridcolor\":\"#DFE8F3\",\"gridwidth\":2,\"linecolor\":\"#EBF0F8\",\"showbackground\":true,\"ticks\":\"\",\"zerolinecolor\":\"#EBF0F8\"}},\"shapedefaults\":{\"line\":{\"color\":\"#2a3f5f\"}},\"ternary\":{\"aaxis\":{\"gridcolor\":\"#DFE8F3\",\"linecolor\":\"#A2B1C6\",\"ticks\":\"\"},\"baxis\":{\"gridcolor\":\"#DFE8F3\",\"linecolor\":\"#A2B1C6\",\"ticks\":\"\"},\"bgcolor\":\"white\",\"caxis\":{\"gridcolor\":\"#DFE8F3\",\"linecolor\":\"#A2B1C6\",\"ticks\":\"\"}},\"title\":{\"x\":0.05},\"xaxis\":{\"automargin\":true,\"gridcolor\":\"#EBF0F8\",\"linecolor\":\"#EBF0F8\",\"ticks\":\"\",\"title\":{\"standoff\":15},\"zerolinecolor\":\"#EBF0F8\",\"zerolinewidth\":2},\"yaxis\":{\"automargin\":true,\"gridcolor\":\"#EBF0F8\",\"linecolor\":\"#EBF0F8\",\"ticks\":\"\",\"title\":{\"standoff\":15},\"zerolinecolor\":\"#EBF0F8\",\"zerolinewidth\":2}}},\"width\":1000,\"xaxis\":{\"anchor\":\"y\",\"domain\":[0.0,0.45]},\"xaxis2\":{\"anchor\":\"y2\",\"domain\":[0.55,1.0]},\"yaxis\":{\"anchor\":\"x\",\"domain\":[0.0,1.0]},\"yaxis2\":{\"anchor\":\"x2\",\"domain\":[0.0,1.0]}},                        {\"responsive\": true}                    ).then(function(){\n",
       "                            \n",
       "var gd = document.getElementById('e973ad92-169f-4ba2-aea4-74ce88ddef59');\n",
       "var x = new MutationObserver(function (mutations, observer) {{\n",
       "        var display = window.getComputedStyle(gd).display;\n",
       "        if (!display || display === 'none') {{\n",
       "            console.log([gd, 'removed!']);\n",
       "            Plotly.purge(gd);\n",
       "            observer.disconnect();\n",
       "        }}\n",
       "}});\n",
       "\n",
       "// Listen for the removal of the full notebook cells\n",
       "var notebookContainer = gd.closest('#notebook-container');\n",
       "if (notebookContainer) {{\n",
       "    x.observe(notebookContainer, {childList: true});\n",
       "}}\n",
       "\n",
       "// Listen for the clearing of the current output cell\n",
       "var outputEl = gd.closest('.output');\n",
       "if (outputEl) {{\n",
       "    x.observe(outputEl, {childList: true});\n",
       "}}\n",
       "\n",
       "                        })                };                });            </script>        </div>"
      ]
     },
     "metadata": {},
     "output_type": "display_data"
    }
   ],
   "source": [
    "compare_lr_curves(history_alpha, \"Alpha Dropout\", history_selu, \"w/o Alpha Dropout\")"
   ]
  },
  {
   "cell_type": "markdown",
   "id": "40bf1765",
   "metadata": {
    "papermill": {
     "duration": 5.620515,
     "end_time": "2022-01-24T01:44:45.741331",
     "exception": false,
     "start_time": "2022-01-24T01:44:40.120816",
     "status": "completed"
    },
    "tags": []
   },
   "source": [
    "With Alpha Dropout, our model didn't overfit like the previous one, but the model with Batch Normalization Layers performed way better."
   ]
  },
  {
   "cell_type": "code",
   "execution_count": 30,
   "id": "d5a58971",
   "metadata": {
    "execution": {
     "iopub.execute_input": "2022-01-24T01:44:56.957895Z",
     "iopub.status.busy": "2022-01-24T01:44:56.957091Z",
     "iopub.status.idle": "2022-01-24T01:45:02.436397Z",
     "shell.execute_reply": "2022-01-24T01:45:02.435774Z",
     "shell.execute_reply.started": "2022-01-24T01:16:02.555191Z"
    },
    "papermill": {
     "duration": 11.06176,
     "end_time": "2022-01-24T01:45:02.436610",
     "exception": false,
     "start_time": "2022-01-24T01:44:51.374850",
     "status": "completed"
    },
    "tags": []
   },
   "outputs": [
    {
     "name": "stdout",
     "output_type": "stream",
     "text": [
      "313/313 [==============================] - 4s 10ms/step - loss: 1.3064 - accuracy: 0.5372\n"
     ]
    },
    {
     "data": {
      "text/plain": [
       "[1.3064104318618774, 0.5371999740600586]"
      ]
     },
     "execution_count": 30,
     "metadata": {},
     "output_type": "execute_result"
    }
   ],
   "source": [
    "best_model = keras.models.load_model('cifar10_model_bn.h5')\n",
    "best_model.evaluate(X_test, y_test)"
   ]
  },
  {
   "cell_type": "markdown",
   "id": "0cbbbc7b",
   "metadata": {
    "papermill": {
     "duration": 5.695907,
     "end_time": "2022-01-24T01:45:13.841778",
     "exception": false,
     "start_time": "2022-01-24T01:45:08.145871",
     "status": "completed"
    },
    "tags": []
   },
   "source": [
    "53% of accuracy on the test set. Not bad! I will try to improve this performance in future notebook with CNNs. Make sure to check it out, and let me know how can I improve my work! Thank you!"
   ]
  }
 ],
 "metadata": {
  "kernelspec": {
   "display_name": "Python 3",
   "language": "python",
   "name": "python3"
  },
  "language_info": {
   "codemirror_mode": {
    "name": "ipython",
    "version": 3
   },
   "file_extension": ".py",
   "mimetype": "text/x-python",
   "name": "python",
   "nbconvert_exporter": "python",
   "pygments_lexer": "ipython3",
   "version": "3.7.10"
  },
  "papermill": {
   "default_parameters": {},
   "duration": 1537.298105,
   "end_time": "2022-01-24T01:45:22.496730",
   "environment_variables": {},
   "exception": null,
   "input_path": "__notebook__.ipynb",
   "output_path": "__notebook__.ipynb",
   "parameters": {},
   "start_time": "2022-01-24T01:19:45.198625",
   "version": "2.3.3"
  }
 },
 "nbformat": 4,
 "nbformat_minor": 5
}
